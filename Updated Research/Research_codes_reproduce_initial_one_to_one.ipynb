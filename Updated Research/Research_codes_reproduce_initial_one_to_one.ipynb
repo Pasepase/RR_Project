{
 "cells": [
  {
   "cell_type": "markdown",
   "id": "a181cd30",
   "metadata": {},
   "source": [
    "# Spam Detection Project Reproduce One-to-One"
   ]
  },
  {
   "cell_type": "code",
   "execution_count": 41,
   "id": "cf0eb124",
   "metadata": {},
   "outputs": [
    {
     "ename": "ImportError",
     "evalue": "cannot import name 'chi2' from 'statsmodels.stats' (c:\\Users\\justy\\AppData\\Local\\Programs\\Python\\Python39\\lib\\site-packages\\statsmodels\\stats\\__init__.py)",
     "output_type": "error",
     "traceback": [
      "\u001b[1;31m---------------------------------------------------------------------------\u001b[0m",
      "\u001b[1;31mImportError\u001b[0m                               Traceback (most recent call last)",
      "\u001b[1;32m~\\AppData\\Local\\Temp/ipykernel_23000/2275053202.py\u001b[0m in \u001b[0;36m<module>\u001b[1;34m\u001b[0m\n\u001b[0;32m      2\u001b[0m \u001b[1;32mimport\u001b[0m \u001b[0mpandas\u001b[0m \u001b[1;32mas\u001b[0m \u001b[0mpd\u001b[0m\u001b[1;33m\u001b[0m\u001b[1;33m\u001b[0m\u001b[0m\n\u001b[0;32m      3\u001b[0m \u001b[1;32mimport\u001b[0m \u001b[0mstatsmodels\u001b[0m\u001b[1;33m.\u001b[0m\u001b[0mapi\u001b[0m \u001b[1;32mas\u001b[0m \u001b[0msm\u001b[0m\u001b[1;33m\u001b[0m\u001b[1;33m\u001b[0m\u001b[0m\n\u001b[1;32m----> 4\u001b[1;33m \u001b[1;32mfrom\u001b[0m \u001b[0mstatsmodels\u001b[0m\u001b[1;33m.\u001b[0m\u001b[0mstats\u001b[0m \u001b[1;32mimport\u001b[0m \u001b[0mchi2\u001b[0m\u001b[1;33m\u001b[0m\u001b[1;33m\u001b[0m\u001b[0m\n\u001b[0m\u001b[0;32m      5\u001b[0m \u001b[1;32mimport\u001b[0m \u001b[0mnumpy\u001b[0m \u001b[1;32mas\u001b[0m \u001b[0mnp\u001b[0m\u001b[1;33m\u001b[0m\u001b[1;33m\u001b[0m\u001b[0m\n\u001b[0;32m      6\u001b[0m \u001b[1;32mimport\u001b[0m \u001b[0mmatplotlib\u001b[0m\u001b[1;33m.\u001b[0m\u001b[0mpyplot\u001b[0m \u001b[1;32mas\u001b[0m \u001b[0mplt\u001b[0m\u001b[1;33m\u001b[0m\u001b[1;33m\u001b[0m\u001b[0m\n",
      "\u001b[1;31mImportError\u001b[0m: cannot import name 'chi2' from 'statsmodels.stats' (c:\\Users\\justy\\AppData\\Local\\Programs\\Python\\Python39\\lib\\site-packages\\statsmodels\\stats\\__init__.py)"
     ]
    }
   ],
   "source": [
    "import os\n",
    "import pandas as pd\n",
    "import statsmodels.api as sm\n",
    "import numpy as np\n",
    "import matplotlib.pyplot as plt\n",
    "from scipy import stats"
   ]
  },
  {
   "cell_type": "markdown",
   "id": "1497ff39",
   "metadata": {},
   "source": [
    "Import the dataset:"
   ]
  },
  {
   "cell_type": "code",
   "execution_count": 16,
   "id": "20412dfc",
   "metadata": {},
   "outputs": [],
   "source": [
    "os.chdir(\"C:\\\\Users\\\\justy\\\\Desktop\\\\Info\\\\Inne\\\\DSC\\\\UW\\\\Semestr II\\\\Econometrics\\\\Project\")\n",
    "\n",
    "spam = pd.read_csv(\"spambase.data\", header=None)\n",
    "names = pd.read_csv(\"names.csv\", header=None)"
   ]
  },
  {
   "cell_type": "code",
   "execution_count": 9,
   "id": "f2f3f7c2",
   "metadata": {},
   "outputs": [
    {
     "data": {
      "text/plain": [
       "<bound method NDFrame.describe of         0     1     2    3     4     5     6     7     8     9   ...     48  \\\n",
       "0     0.00  0.64  0.64  0.0  0.32  0.00  0.00  0.00  0.00  0.00  ...  0.000   \n",
       "1     0.21  0.28  0.50  0.0  0.14  0.28  0.21  0.07  0.00  0.94  ...  0.000   \n",
       "2     0.06  0.00  0.71  0.0  1.23  0.19  0.19  0.12  0.64  0.25  ...  0.010   \n",
       "3     0.00  0.00  0.00  0.0  0.63  0.00  0.31  0.63  0.31  0.63  ...  0.000   \n",
       "4     0.00  0.00  0.00  0.0  0.63  0.00  0.31  0.63  0.31  0.63  ...  0.000   \n",
       "...    ...   ...   ...  ...   ...   ...   ...   ...   ...   ...  ...    ...   \n",
       "4596  0.31  0.00  0.62  0.0  0.00  0.31  0.00  0.00  0.00  0.00  ...  0.000   \n",
       "4597  0.00  0.00  0.00  0.0  0.00  0.00  0.00  0.00  0.00  0.00  ...  0.000   \n",
       "4598  0.30  0.00  0.30  0.0  0.00  0.00  0.00  0.00  0.00  0.00  ...  0.102   \n",
       "4599  0.96  0.00  0.00  0.0  0.32  0.00  0.00  0.00  0.00  0.00  ...  0.000   \n",
       "4600  0.00  0.00  0.65  0.0  0.00  0.00  0.00  0.00  0.00  0.00  ...  0.000   \n",
       "\n",
       "         49   50     51     52     53     54   55    56  57  \n",
       "0     0.000  0.0  0.778  0.000  0.000  3.756   61   278   1  \n",
       "1     0.132  0.0  0.372  0.180  0.048  5.114  101  1028   1  \n",
       "2     0.143  0.0  0.276  0.184  0.010  9.821  485  2259   1  \n",
       "3     0.137  0.0  0.137  0.000  0.000  3.537   40   191   1  \n",
       "4     0.135  0.0  0.135  0.000  0.000  3.537   40   191   1  \n",
       "...     ...  ...    ...    ...    ...    ...  ...   ...  ..  \n",
       "4596  0.232  0.0  0.000  0.000  0.000  1.142    3    88   0  \n",
       "4597  0.000  0.0  0.353  0.000  0.000  1.555    4    14   0  \n",
       "4598  0.718  0.0  0.000  0.000  0.000  1.404    6   118   0  \n",
       "4599  0.057  0.0  0.000  0.000  0.000  1.147    5    78   0  \n",
       "4600  0.000  0.0  0.125  0.000  0.000  1.250    5    40   0  \n",
       "\n",
       "[4601 rows x 58 columns]>"
      ]
     },
     "execution_count": 9,
     "metadata": {},
     "output_type": "execute_result"
    }
   ],
   "source": [
    "spam.describe"
   ]
  },
  {
   "cell_type": "code",
   "execution_count": 17,
   "id": "251713ef",
   "metadata": {},
   "outputs": [
    {
     "data": {
      "text/plain": [
       "<bound method NDFrame.describe of                              0\n",
       "0               word_freq_make\n",
       "1            word_freq_address\n",
       "2                word_freq_all\n",
       "3                 word_freq_3d\n",
       "4                word_freq_our\n",
       "5               word_freq_over\n",
       "6             word_freq_remove\n",
       "7           word_freq_internet\n",
       "8              word_freq_order\n",
       "9               word_freq_mail\n",
       "10           word_freq_receive\n",
       "11              word_freq_will\n",
       "12            word_freq_people\n",
       "13            word_freq_report\n",
       "14         word_freq_addresses\n",
       "15              word_freq_free\n",
       "16          word_freq_business\n",
       "17             word_freq_email\n",
       "18               word_freq_you\n",
       "19            word_freq_credit\n",
       "20              word_freq_your\n",
       "21              word_freq_font\n",
       "22               word_freq_000\n",
       "23             word_freq_money\n",
       "24                word_freq_hp\n",
       "25               word_freq_hpl\n",
       "26            word_freq_george\n",
       "27               word_freq_650\n",
       "28               word_freq_lab\n",
       "29              word_freq_labs\n",
       "30            word_freq_telnet\n",
       "31               word_freq_857\n",
       "32              word_freq_data\n",
       "33               word_freq_415\n",
       "34                word_freq_85\n",
       "35        word_freq_technology\n",
       "36              word_freq_1999\n",
       "37             word_freq_parts\n",
       "38                word_freq_pm\n",
       "39            word_freq_direct\n",
       "40                word_freq_cs\n",
       "41           word_freq_meeting\n",
       "42          word_freq_original\n",
       "43           word_freq_project\n",
       "44                word_freq_re\n",
       "45               word_freq_edu\n",
       "46             word_freq_table\n",
       "47        word_freq_conference\n",
       "48                 char_freq_;\n",
       "49                 char_freq_(\n",
       "50                 char_freq_[\n",
       "51                 char_freq_!\n",
       "52                 char_freq_$\n",
       "53                 char_freq_#\n",
       "54  capital_run_length_average\n",
       "55  capital_run_length_longest\n",
       "56    capital_run_length_total>"
      ]
     },
     "execution_count": 17,
     "metadata": {},
     "output_type": "execute_result"
    }
   ],
   "source": [
    "names.describe"
   ]
  },
  {
   "cell_type": "code",
   "execution_count": 29,
   "id": "e25ea9e6",
   "metadata": {},
   "outputs": [],
   "source": [
    "names.loc[48, 0] = \"char_freq_semicolon\"\n",
    "names.loc[49, 0] = \"char_freq_bracket\"\n",
    "names.loc[50, 0] = \"char_freq_square_bracket\"\n",
    "names.loc[51, 0] = \"char_freq_exclamation\"\n",
    "names.loc[52, 0] = \"char_freq_dollar\"\n",
    "names.loc[53, 0] = \"char_freq_hashtag\"\n",
    "names.loc[57, 0] = \"spam\""
   ]
  },
  {
   "cell_type": "code",
   "execution_count": 30,
   "id": "e08fef1a",
   "metadata": {},
   "outputs": [],
   "source": [
    "spam.columns = names[0].values\n",
    "\n",
    "spam.dropna(inplace=True)"
   ]
  },
  {
   "cell_type": "code",
   "execution_count": 32,
   "id": "7daf3969",
   "metadata": {},
   "outputs": [
    {
     "data": {
      "text/plain": [
       "Index(['word_freq_make', 'word_freq_address', 'word_freq_all', 'word_freq_3d',\n",
       "       'word_freq_our', 'word_freq_over', 'word_freq_remove',\n",
       "       'word_freq_internet', 'word_freq_order', 'word_freq_mail',\n",
       "       'word_freq_receive', 'word_freq_will', 'word_freq_people',\n",
       "       'word_freq_report', 'word_freq_addresses', 'word_freq_free',\n",
       "       'word_freq_business', 'word_freq_email', 'word_freq_you',\n",
       "       'word_freq_credit', 'word_freq_your', 'word_freq_font', 'word_freq_000',\n",
       "       'word_freq_money', 'word_freq_hp', 'word_freq_hpl', 'word_freq_george',\n",
       "       'word_freq_650', 'word_freq_lab', 'word_freq_labs', 'word_freq_telnet',\n",
       "       'word_freq_857', 'word_freq_data', 'word_freq_415', 'word_freq_85',\n",
       "       'word_freq_technology', 'word_freq_1999', 'word_freq_parts',\n",
       "       'word_freq_pm', 'word_freq_direct', 'word_freq_cs', 'word_freq_meeting',\n",
       "       'word_freq_original', 'word_freq_project', 'word_freq_re',\n",
       "       'word_freq_edu', 'word_freq_table', 'word_freq_conference',\n",
       "       'char_freq_semicolon', 'char_freq_bracket', 'char_freq_square_bracket',\n",
       "       'char_freq_exclamation', 'char_freq_dollar', 'char_freq_hashtag',\n",
       "       'capital_run_length_average', 'capital_run_length_longest',\n",
       "       'capital_run_length_total', 'spam'],\n",
       "      dtype='object')"
      ]
     },
     "execution_count": 32,
     "metadata": {},
     "output_type": "execute_result"
    }
   ],
   "source": [
    "spam.columns"
   ]
  },
  {
   "cell_type": "markdown",
   "id": "d595875b",
   "metadata": {},
   "source": [
    "Let us check the distribution of spam and non-spam mails"
   ]
  },
  {
   "cell_type": "code",
   "execution_count": 33,
   "id": "ea06ef2d",
   "metadata": {},
   "outputs": [
    {
     "data": {
      "image/png": "[encoded data removed]",
      "text/plain": [
       "<Figure size 432x288 with 1 Axes>"
      ]
     },
     "metadata": {
      "needs_background": "light"
     },
     "output_type": "display_data"
    }
   ],
   "source": [
    "spam_count = spam[\"spam\"].value_counts()\n",
    "perc_yes = round(spam_count[1] / len(spam) * 100, 2)\n",
    "perc_no = round(spam_count[0] / len(spam) * 100, 2)\n",
    "\n",
    "plt.bar([\"Non-spam\", \"Spam\"], spam_count, color=[\"#31d64f\", \"#ed3b3b\"])\n",
    "plt.title(\"Number of spam/non-spam mails\")\n",
    "plt.xlabel(\"Type of mail\")\n",
    "plt.ylabel(\"Frequency\")\n",
    "plt.legend([\"Non-spam\", \"Spam\"])\n",
    "plt.show()"
   ]
  },
  {
   "cell_type": "markdown",
   "id": "e4d25fc9",
   "metadata": {},
   "source": [
    "## Start from the most general model that contains all explanatory variables"
   ]
  },
  {
   "cell_type": "code",
   "execution_count": 34,
   "id": "b02c215f",
   "metadata": {},
   "outputs": [],
   "source": [
    "formula = \"spam ~ \" + \" + \".join(spam.columns[:-1])"
   ]
  },
  {
   "cell_type": "markdown",
   "id": "52ffe5b2",
   "metadata": {},
   "source": [
    "Probit model"
   ]
  },
  {
   "cell_type": "code",
   "execution_count": 35,
   "id": "0f4781df",
   "metadata": {},
   "outputs": [
    {
     "name": "stdout",
     "output_type": "stream",
     "text": [
      "Optimization terminated successfully.\n",
      "         Current function value: 0.207573\n",
      "         Iterations 15\n",
      "                          Probit Regression Results                           \n",
      "==============================================================================\n",
      "Dep. Variable:                   spam   No. Observations:                 4601\n",
      "Model:                         Probit   Df Residuals:                     4543\n",
      "Method:                           MLE   Df Model:                           57\n",
      "Date:                Thu, 15 Jun 2023   Pseudo R-squ.:                  0.6904\n",
      "Time:                        21:36:26   Log-Likelihood:                -955.04\n",
      "converged:                       True   LL-Null:                       -3085.1\n",
      "Covariance Type:            nonrobust   LLR p-value:                     0.000\n",
      "==============================================================================================\n",
      "                                 coef    std err          z      P>|z|      [0.025      0.975]\n",
      "----------------------------------------------------------------------------------------------\n",
      "Intercept                     -0.8356      0.075    -11.098      0.000      -0.983      -0.688\n",
      "word_freq_make                -0.1751      0.115     -1.520      0.128      -0.401       0.051\n",
      "word_freq_address             -0.0858      0.035     -2.462      0.014      -0.154      -0.017\n",
      "word_freq_all                  0.1134      0.063      1.803      0.071      -0.010       0.237\n",
      "word_freq_3d                   1.3766      0.803      1.713      0.087      -0.198       2.951\n",
      "word_freq_our                  0.3122      0.047      6.652      0.000       0.220       0.404\n",
      "word_freq_over                 0.4709      0.108      4.363      0.000       0.259       0.683\n",
      "word_freq_remove               0.9894      0.121      8.146      0.000       0.751       1.227\n",
      "word_freq_internet             0.2829      0.080      3.534      0.000       0.126       0.440\n",
      "word_freq_order                0.2988      0.120      2.493      0.013       0.064       0.534\n",
      "word_freq_mail                 0.0786      0.039      2.033      0.042       0.003       0.154\n",
      "word_freq_receive             -0.0800      0.151     -0.531      0.595      -0.375       0.215\n",
      "word_freq_will                -0.0867      0.041     -2.129      0.033      -0.167      -0.007\n",
      "word_freq_people              -0.0279      0.126     -0.221      0.825      -0.276       0.220\n",
      "word_freq_report               0.1086      0.078      1.396      0.163      -0.044       0.261\n",
      "word_freq_addresses            0.8329      0.362      2.298      0.022       0.122       1.543\n",
      "word_freq_free                 0.5191      0.062      8.437      0.000       0.399       0.640\n",
      "word_freq_business             0.4645      0.109      4.248      0.000       0.250       0.679\n",
      "word_freq_email                0.1029      0.064      1.595      0.111      -0.024       0.229\n",
      "word_freq_you                  0.0401      0.019      2.079      0.038       0.002       0.078\n",
      "word_freq_credit               0.4384      0.211      2.079      0.038       0.025       0.852\n",
      "word_freq_your                 0.1487      0.028      5.359      0.000       0.094       0.203\n",
      "word_freq_font                 0.1434      0.087      1.652      0.098      -0.027       0.313\n",
      "word_freq_000                  1.2991      0.212      6.142      0.000       0.885       1.714\n",
      "word_freq_money                0.2165      0.062      3.466      0.001       0.094       0.339\n",
      "word_freq_hp                  -0.7846      0.108     -7.271      0.000      -0.996      -0.573\n",
      "word_freq_hpl                 -0.6996      0.200     -3.505      0.000      -1.091      -0.308\n",
      "word_freq_george              -3.5943      0.564     -6.370      0.000      -4.700      -2.488\n",
      "word_freq_650                  0.2448      0.101      2.421      0.015       0.047       0.443\n",
      "word_freq_lab                 -1.4529      0.775     -1.874      0.061      -2.972       0.067\n",
      "word_freq_labs                -0.2275      0.166     -1.375      0.169      -0.552       0.097\n",
      "word_freq_telnet              -0.0992      0.231     -0.429      0.668      -0.553       0.354\n",
      "word_freq_857                  1.1786      1.536      0.767      0.443      -1.832       4.189\n",
      "word_freq_data                -0.4158      0.161     -2.590      0.010      -0.730      -0.101\n",
      "word_freq_415                 -0.2320      0.819     -0.283      0.777      -1.837       1.373\n",
      "word_freq_85                  -1.2428      0.406     -3.060      0.002      -2.039      -0.447\n",
      "word_freq_technology           0.4606      0.161      2.860      0.004       0.145       0.776\n",
      "word_freq_1999                 0.0014      0.097      0.014      0.989      -0.188       0.191\n",
      "word_freq_parts               -0.3007      0.227     -1.324      0.185      -0.746       0.144\n",
      "word_freq_pm                  -0.4698      0.208     -2.255      0.024      -0.878      -0.061\n",
      "word_freq_direct              -0.1422      0.201     -0.708      0.479      -0.536       0.251\n",
      "word_freq_cs                 -24.2110     13.248     -1.828      0.068     -50.177       1.755\n",
      "word_freq_meeting             -1.5055      0.431     -3.496      0.000      -2.350      -0.662\n",
      "word_freq_original            -0.6552      0.400     -1.640      0.101      -1.438       0.128\n",
      "word_freq_project             -0.8125      0.264     -3.081      0.002      -1.329      -0.296\n",
      "word_freq_re                  -0.4094      0.074     -5.507      0.000      -0.555      -0.264\n",
      "word_freq_edu                 -0.6755      0.114     -5.923      0.000      -0.899      -0.452\n",
      "word_freq_table               -1.2250      0.764     -1.604      0.109      -2.722       0.272\n",
      "word_freq_conference          -2.0125      0.746     -2.699      0.007      -3.474      -0.551\n",
      "char_freq_semicolon           -0.8079      0.248     -3.257      0.001      -1.294      -0.322\n",
      "char_freq_bracket             -0.1302      0.139     -0.933      0.351      -0.404       0.143\n",
      "char_freq_square_bracket      -0.4066      0.452     -0.899      0.369      -1.293       0.480\n",
      "char_freq_exclamation          0.1572      0.027      5.901      0.000       0.105       0.209\n",
      "char_freq_dollar               2.2585      0.283      7.994      0.000       1.705       2.812\n",
      "char_freq_hashtag              1.3189      0.329      4.012      0.000       0.675       1.963\n",
      "capital_run_length_average    -0.0027      0.008     -0.333      0.739      -0.019       0.013\n",
      "capital_run_length_longest     0.0043      0.001      3.595      0.000       0.002       0.007\n",
      "capital_run_length_total       0.0005   9.83e-05      5.006      0.000       0.000       0.001\n",
      "==============================================================================================\n",
      "\n",
      "Possibly complete quasi-separation: A fraction 0.33 of observations can be\n",
      "perfectly predicted. This might indicate that there is complete\n",
      "quasi-separation. In this case some parameters will not be identified.\n"
     ]
    }
   ],
   "source": [
    "myprobit = sm.Probit.from_formula(formula, data=spam).fit()\n",
    "print(myprobit.summary())"
   ]
  },
  {
   "cell_type": "markdown",
   "id": "d5a94060",
   "metadata": {},
   "source": [
    "Logit model"
   ]
  },
  {
   "cell_type": "code",
   "execution_count": 36,
   "id": "69db3ff8",
   "metadata": {},
   "outputs": [
    {
     "name": "stdout",
     "output_type": "stream",
     "text": [
      "Optimization terminated successfully.\n",
      "         Current function value: 0.197323\n",
      "         Iterations 15\n",
      "                           Logit Regression Results                           \n",
      "==============================================================================\n",
      "Dep. Variable:                   spam   No. Observations:                 4601\n",
      "Model:                          Logit   Df Residuals:                     4543\n",
      "Method:                           MLE   Df Model:                           57\n",
      "Date:                Thu, 15 Jun 2023   Pseudo R-squ.:                  0.7057\n",
      "Time:                        21:36:49   Log-Likelihood:                -907.88\n",
      "converged:                       True   LL-Null:                       -3085.1\n",
      "Covariance Type:            nonrobust   LLR p-value:                     0.000\n",
      "==============================================================================================\n",
      "                                 coef    std err          z      P>|z|      [0.025      0.975]\n",
      "----------------------------------------------------------------------------------------------\n",
      "Intercept                     -1.5686      0.142    -11.044      0.000      -1.847      -1.290\n",
      "word_freq_make                -0.3895      0.231     -1.683      0.092      -0.843       0.064\n",
      "word_freq_address             -0.1458      0.069     -2.104      0.035      -0.282      -0.010\n",
      "word_freq_all                  0.1141      0.110      1.035      0.301      -0.102       0.330\n",
      "word_freq_3d                   2.2515      1.507      1.494      0.135      -0.702       5.205\n",
      "word_freq_our                  0.5624      0.102      5.524      0.000       0.363       0.762\n",
      "word_freq_over                 0.8830      0.250      3.534      0.000       0.393       1.373\n",
      "word_freq_remove               2.2785      0.333      6.846      0.000       1.626       2.931\n",
      "word_freq_internet             0.5696      0.168      3.387      0.001       0.240       0.899\n",
      "word_freq_order                0.7343      0.285      2.577      0.010       0.176       1.293\n",
      "word_freq_mail                 0.1275      0.073      1.755      0.079      -0.015       0.270\n",
      "word_freq_receive             -0.2557      0.298     -0.858      0.391      -0.840       0.328\n",
      "word_freq_will                -0.1383      0.074     -1.868      0.062      -0.283       0.007\n",
      "word_freq_people              -0.0796      0.230     -0.346      0.730      -0.531       0.372\n",
      "word_freq_report               0.1447      0.136      1.061      0.289      -0.123       0.412\n",
      "word_freq_addresses            1.2362      0.725      1.704      0.088      -0.186       2.658\n",
      "word_freq_free                 1.0386      0.146      7.128      0.000       0.753       1.324\n",
      "word_freq_business             0.9599      0.225      4.264      0.000       0.519       1.401\n",
      "word_freq_email                0.1203      0.117      1.027      0.305      -0.109       0.350\n",
      "word_freq_you                  0.0813      0.035      2.320      0.020       0.013       0.150\n",
      "word_freq_credit               1.0474      0.538      1.946      0.052      -0.008       2.102\n",
      "word_freq_your                 0.2419      0.052      4.615      0.000       0.139       0.345\n",
      "word_freq_font                 0.2013      0.163      1.238      0.216      -0.117       0.520\n",
      "word_freq_000                  2.2452      0.471      4.762      0.000       1.321       3.169\n",
      "word_freq_money                0.4264      0.162      2.630      0.009       0.109       0.744\n",
      "word_freq_hp                  -1.9204      0.313     -6.139      0.000      -2.534      -1.307\n",
      "word_freq_hpl                 -1.0402      0.440     -2.366      0.018      -1.902      -0.179\n",
      "word_freq_george             -11.7672      2.113     -5.569      0.000     -15.909      -7.626\n",
      "word_freq_650                  0.4454      0.199      2.237      0.025       0.055       0.836\n",
      "word_freq_lab                 -2.4864      1.502     -1.656      0.098      -5.429       0.457\n",
      "word_freq_labs                -0.3299      0.314     -1.052      0.293      -0.945       0.285\n",
      "word_freq_telnet              -0.1702      0.482     -0.353      0.724      -1.114       0.774\n",
      "word_freq_857                  2.5488      3.283      0.776      0.438      -3.886       8.984\n",
      "word_freq_data                -0.7383      0.312     -2.369      0.018      -1.349      -0.127\n",
      "word_freq_415                  0.6679      1.601      0.417      0.676      -2.469       3.805\n",
      "word_freq_85                  -2.0554      0.788     -2.607      0.009      -3.601      -0.510\n",
      "word_freq_technology           0.9237      0.309      2.989      0.003       0.318       1.530\n",
      "word_freq_1999                 0.0465      0.175      0.265      0.791      -0.297       0.390\n",
      "word_freq_parts               -0.5968      0.423     -1.410      0.158      -1.426       0.233\n",
      "word_freq_pm                  -0.8650      0.383     -2.260      0.024      -1.615      -0.115\n",
      "word_freq_direct              -0.3046      0.364     -0.838      0.402      -1.017       0.408\n",
      "word_freq_cs                 -45.0480     26.600     -1.694      0.090     -97.182       7.086\n",
      "word_freq_meeting             -2.6887      0.838     -3.207      0.001      -4.332      -1.045\n",
      "word_freq_original            -1.2471      0.806     -1.547      0.122      -2.828       0.333\n",
      "word_freq_project             -1.5732      0.529     -2.973      0.003      -2.610      -0.536\n",
      "word_freq_re                  -0.7923      0.156     -5.091      0.000      -1.097      -0.487\n",
      "word_freq_edu                 -1.4592      0.269     -5.434      0.000      -1.986      -0.933\n",
      "word_freq_table               -2.3259      1.659     -1.402      0.161      -5.578       0.926\n",
      "word_freq_conference          -4.0156      1.611     -2.493      0.013      -7.173      -0.858\n",
      "char_freq_semicolon           -1.2911      0.442     -2.920      0.004      -2.158      -0.424\n",
      "char_freq_bracket             -0.1881      0.249     -0.754      0.451      -0.677       0.301\n",
      "char_freq_square_bracket      -0.6574      0.838     -0.784      0.433      -2.301       0.986\n",
      "char_freq_exclamation          0.3472      0.089      3.890      0.000       0.172       0.522\n",
      "char_freq_dollar               5.3360      0.706      7.553      0.000       3.951       6.721\n",
      "char_freq_hashtag              2.4032      1.113      2.159      0.031       0.221       4.585\n",
      "capital_run_length_average     0.0120      0.019      0.636      0.525      -0.025       0.049\n",
      "capital_run_length_longest     0.0091      0.003      3.618      0.000       0.004       0.014\n",
      "capital_run_length_total       0.0008      0.000      3.747      0.000       0.000       0.001\n",
      "==============================================================================================\n",
      "\n",
      "Possibly complete quasi-separation: A fraction 0.28 of observations can be\n",
      "perfectly predicted. This might indicate that there is complete\n",
      "quasi-separation. In this case some parameters will not be identified.\n"
     ]
    }
   ],
   "source": [
    "mylogit = sm.Logit.from_formula(formula, data=spam).fit()\n",
    "print(mylogit.summary())"
   ]
  },
  {
   "cell_type": "markdown",
   "id": "433aef44",
   "metadata": {},
   "source": [
    "# Significance test of models\n",
    "\n",
    "Both models p-values are 0, so null hypothesis can be rejected. It means that the model`s coefficients are jointly significant"
   ]
  },
  {
   "cell_type": "code",
   "execution_count": 42,
   "id": "3af6d927",
   "metadata": {},
   "outputs": [
    {
     "name": "stdout",
     "output_type": "stream",
     "text": [
      "Optimization terminated successfully.\n",
      "         Current function value: 0.670523\n",
      "         Iterations 4\n",
      "Probit likelihood ratio test p-value: 0.0\n"
     ]
    }
   ],
   "source": [
    "null_probit = sm.Probit(spam[\"spam\"], sm.add_constant(pd.Series([1] * len(spam)))).fit()\n",
    "probit_lrtest = stats.chi2.sf(2 * (myprobit.llf - null_probit.llf), 1)\n",
    "print(\"Probit likelihood ratio test p-value:\", probit_lrtest)"
   ]
  },
  {
   "cell_type": "code",
   "execution_count": 43,
   "id": "fb8447e9",
   "metadata": {},
   "outputs": [
    {
     "name": "stdout",
     "output_type": "stream",
     "text": [
      "Optimization terminated successfully.\n",
      "         Current function value: 0.670523\n",
      "         Iterations 4\n",
      "Logit likelihood ratio test p-value: 0.0\n"
     ]
    }
   ],
   "source": [
    "null_logit = sm.Logit(spam[\"spam\"], sm.add_constant(pd.Series([1] * len(spam)))).fit()\n",
    "logit_lrtest = stats.chi2.sf(2 * (mylogit.llf - null_logit.llf), 1)\n",
    "print(\"Logit likelihood ratio test p-value:\", logit_lrtest)"
   ]
  },
  {
   "cell_type": "markdown",
   "id": "68ab87c0",
   "metadata": {},
   "source": [
    "## Stepwise regression"
   ]
  },
  {
   "cell_type": "code",
   "execution_count": null,
   "id": "f50e6e0b",
   "metadata": {},
   "outputs": [],
   "source": [
    "#Comment"
   ]
  },
  {
   "cell_type": "code",
   "execution_count": null,
   "id": "fafe6919",
   "metadata": {},
   "outputs": [],
   "source": [
    "#comment2"
   ]
  }
 ],
 "metadata": {
  "kernelspec": {
   "display_name": "Python 3 (ipykernel)",
   "language": "python",
   "name": "python3"
  },
  "language_info": {
   "codemirror_mode": {
    "name": "ipython",
    "version": 3
   },
   "file_extension": ".py",
   "mimetype": "text/x-python",
   "name": "python",
   "nbconvert_exporter": "python",
   "pygments_lexer": "ipython3",
   "version": "3.9.7"
  }
 },
 "nbformat": 4,
 "nbformat_minor": 5
}
