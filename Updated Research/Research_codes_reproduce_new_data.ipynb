{
 "cells": [
  {
   "cell_type": "markdown",
   "id": "a181cd30",
   "metadata": {},
   "source": [
    "# Spam Detection Project Reproduce new data"
   ]
  },
  {
   "cell_type": "code",
   "execution_count": 114,
   "id": "cf0eb124",
   "metadata": {},
   "outputs": [],
   "source": [
    "import os\n",
    "import pandas as pd\n",
    "import statsmodels.api as sm\n",
    "import numpy as np\n",
    "import matplotlib.pyplot as plt\n",
    "from scipy import stats\n",
    "import patsy\n",
    "os.chdir(r\"C:\\Users\\serei\\Desktop\\Untitled Folder\")"
   ]
  },
  {
   "cell_type": "markdown",
   "id": "2ab91bc5",
   "metadata": {},
   "source": [
    "The analysis will be conducted using word frequencies from the old research as well as a new word list from the new datsaset. "
   ]
  },
  {
   "cell_type": "markdown",
   "id": "36970171",
   "metadata": {},
   "source": [
    "## New Data New Words"
   ]
  },
  {
   "cell_type": "markdown",
   "id": "1497ff39",
   "metadata": {},
   "source": [
    "Import and prepare the dataset for analysis:"
   ]
  },
  {
   "cell_type": "code",
   "execution_count": 115,
   "id": "effe5382",
   "metadata": {},
   "outputs": [],
   "source": [
    "spam = pd.read_csv(\"new_data_new_words.csv\")\n",
    "spam.dropna(inplace = True)\n",
    "\n",
    "#Renaming character columns to a less error-prone form\n",
    "spam.rename(columns = {'$':'dollar',\n",
    "                       '!': 'exclamation',\n",
    "                      \"#\": \"hashtag\",\n",
    "                       \"(\":\"parenthesis\",\n",
    "                       \"[\": \"brackets\",\n",
    "                       \";\": \"semicolon\",\n",
    "                       \"€\": \"euro\",\n",
    "                       \"@\": \"at\", \n",
    "                       \"?\": \"question\"\n",
    "                      }, inplace = True)\n",
    "\n",
    "#Drop columns not neccessary to the analysis\n",
    "spam.drop(columns=['Unnamed: 0', 'processed_text', 'word_count'], inplace = True)\n",
    "\n",
    "#Rename columns to include word_freq\n",
    "column_names = spam.columns.tolist()\n",
    "new_column_names = ['spam'] + ['word_freq_' + column if column != 'spam' else column for column in column_names[1:]]\n",
    "\n",
    "spam.rename(columns=dict(zip(column_names, new_column_names)), inplace=True)\n",
    "\n",
    "#Convert the dependent variable to a numeric one\n",
    "spam['spam'] = spam['spam'].replace({\n",
    "    'spam': 1,\n",
    "    'ham': 0})"
   ]
  },
  {
   "cell_type": "code",
   "execution_count": 49,
   "id": "f2f3f7c2",
   "metadata": {},
   "outputs": [
    {
     "data": {
      "text/plain": [
       "<bound method NDFrame.describe of       spam  word_freq_u  word_freq_call  word_freq_get  word_freq_ur  \\\n",
       "0        0          0.0            0.00            0.0           0.0   \n",
       "1        0          0.0            0.00            0.0           0.0   \n",
       "2        1          0.0            0.00            0.0           0.0   \n",
       "3        0          0.0            0.00            0.0           0.0   \n",
       "4        0          0.0            0.00            0.0           0.0   \n",
       "...    ...          ...             ...            ...           ...   \n",
       "5567     1          0.0            0.08            0.0           0.0   \n",
       "5568     0          0.0            0.00            0.0           0.0   \n",
       "5569     0          0.0            0.00            0.0           0.0   \n",
       "5570     0          0.0            0.00            0.0           0.0   \n",
       "5571     0          0.0            0.00            0.0           0.0   \n",
       "\n",
       "      word_freq_gt  word_freq_lt  word_freq_go  word_freq_free  \\\n",
       "0              0.0           0.0      0.150000        0.000000   \n",
       "1              0.0           0.0      0.000000        0.000000   \n",
       "2              0.0           0.0      0.000000        0.133333   \n",
       "3              0.0           0.0      0.000000        0.000000   \n",
       "4              0.0           0.0      0.333333        0.000000   \n",
       "...            ...           ...           ...             ...   \n",
       "5567           0.0           0.0      0.000000        0.000000   \n",
       "5568           0.0           0.0      0.000000        0.000000   \n",
       "5569           0.0           0.0      0.000000        0.000000   \n",
       "5570           0.0           0.0      0.000000        0.285714   \n",
       "5571           0.0           0.0      0.000000        0.000000   \n",
       "\n",
       "      word_freq_know  ...  word_freq_hi  word_freq_please  word_freq_pls  \\\n",
       "0                0.0  ...           0.0               0.0            0.0   \n",
       "1                0.0  ...           0.0               0.0            0.0   \n",
       "2                0.0  ...           0.0               0.0            0.0   \n",
       "3                0.0  ...           0.0               0.0            0.0   \n",
       "4                0.0  ...           0.0               0.0            0.0   \n",
       "...              ...  ...           ...               ...            ...   \n",
       "5567             0.0  ...           0.0               0.0            0.0   \n",
       "5568             0.0  ...           0.0               0.0            0.0   \n",
       "5569             0.0  ...           0.0               0.0            0.0   \n",
       "5570             0.0  ...           0.0               0.0            0.0   \n",
       "5571             0.0  ...           0.0               0.0            0.0   \n",
       "\n",
       "      word_freq_make  word_freq_dollar  word_freq_euro  word_freq_exclamation  \\\n",
       "0                0.0               0.0             0.0               0.000000   \n",
       "1                0.0               0.0             0.0               0.000000   \n",
       "2                0.0               0.0             0.0               0.000000   \n",
       "3                0.0               0.0             0.0               0.000000   \n",
       "4                0.0               0.0             0.0               0.000000   \n",
       "...              ...               ...             ...                    ...   \n",
       "5567             0.0               0.0             0.0               0.090909   \n",
       "5568             0.0               0.0             0.0               0.000000   \n",
       "5569             0.0               0.0             0.0               0.000000   \n",
       "5570             0.0               0.0             0.0               0.000000   \n",
       "5571             0.0               0.0             0.0               0.000000   \n",
       "\n",
       "      word_freq_at  word_freq_question  word_freq_digit_count  \n",
       "0              0.0            0.000000                      0  \n",
       "1              0.0            0.000000                      0  \n",
       "2              0.0            0.000000                     25  \n",
       "3              0.0            0.000000                      0  \n",
       "4              0.0            0.000000                      0  \n",
       "...            ...                 ...                    ...  \n",
       "5567           0.0            0.000000                     21  \n",
       "5568           0.0            0.083333                      0  \n",
       "5569           0.0            0.083333                      0  \n",
       "5570           0.0            0.000000                      0  \n",
       "5571           0.0            0.000000                      0  \n",
       "\n",
       "[5572 rows x 57 columns]>"
      ]
     },
     "execution_count": 49,
     "metadata": {},
     "output_type": "execute_result"
    }
   ],
   "source": [
    "spam.describe"
   ]
  },
  {
   "cell_type": "markdown",
   "id": "e4322a2b",
   "metadata": {},
   "source": [
    "Very low variances in independent variables cause errors in the models. We set a treshold for the variances of the columns and keep only the columns that can be included in the analysis. "
   ]
  },
  {
   "cell_type": "code",
   "execution_count": 116,
   "id": "034253b4",
   "metadata": {},
   "outputs": [
    {
     "data": {
      "text/plain": [
       "spam                      0.116111\n",
       "word_freq_call            0.005306\n",
       "word_freq_get             0.003488\n",
       "word_freq_ur              0.003405\n",
       "word_freq_gt              0.007387\n",
       "word_freq_lt              0.009940\n",
       "word_freq_go              0.004034\n",
       "word_freq_free            0.004759\n",
       "word_freq_come            0.003268\n",
       "word_freq_day             0.003685\n",
       "word_freq_time            0.003465\n",
       "word_freq_text            0.004684\n",
       "word_freq_love            0.003443\n",
       "word_freq_send            0.003109\n",
       "word_freq_need            0.003308\n",
       "word_freq_going           0.004255\n",
       "word_freq_sorry           0.004954\n",
       "word_freq_still           0.004305\n",
       "word_freq_take            0.003129\n",
       "word_freq_da              0.004420\n",
       "word_freq_dont            0.003515\n",
       "word_freq_later           0.007791\n",
       "word_freq_exclamation     0.003834\n",
       "word_freq_digit_count    38.995783\n",
       "dtype: float64"
      ]
     },
     "execution_count": 116,
     "metadata": {},
     "output_type": "execute_result"
    }
   ],
   "source": [
    "variance = spam.var()\n",
    "\n",
    "# Set the threshold value\n",
    "threshold = 0.003\n",
    "\n",
    "# Filter columns based on variance threshold\n",
    "filtered_columns = variance[variance >= threshold].index\n",
    "\n",
    "# Create a new DataFrame with selected columns\n",
    "spam = spam[filtered_columns]\n",
    "\n",
    "spam.var()"
   ]
  },
  {
   "cell_type": "markdown",
   "id": "d595875b",
   "metadata": {},
   "source": [
    "Let us check the distribution of spam and non-spam mails"
   ]
  },
  {
   "cell_type": "code",
   "execution_count": 117,
   "id": "ea06ef2d",
   "metadata": {},
   "outputs": [
    {
     "data": {
      "image/png": "[encoded data removed]",
      "text/plain": [
       "<Figure size 432x288 with 1 Axes>"
      ]
     },
     "metadata": {
      "needs_background": "light"
     },
     "output_type": "display_data"
    }
   ],
   "source": [
    "spam_count = spam[\"spam\"].value_counts()\n",
    "perc_yes = round(spam_count[1] / len(spam) * 100, 2)\n",
    "perc_no = round(spam_count[0] / len(spam) * 100, 2)\n",
    "\n",
    "plt.bar([\"Non-spam\", \"Spam\"], spam_count, color=[\"#31d64f\", \"#ed3b3b\"])\n",
    "plt.title(\"Number of spam/non-spam mails\")\n",
    "plt.xlabel(\"Type of mail\")\n",
    "plt.ylabel(\"Frequency\")\n",
    "plt.legend([\"Non-spam\", \"Spam\"])\n",
    "plt.show()"
   ]
  },
  {
   "cell_type": "markdown",
   "id": "e4d25fc9",
   "metadata": {},
   "source": [
    "## Start from the most general model that contains all explanatory variables"
   ]
  },
  {
   "cell_type": "code",
   "execution_count": 118,
   "id": "b02c215f",
   "metadata": {},
   "outputs": [],
   "source": [
    "formula = \"spam ~ \" + \" + \".join(spam.columns[1:])"
   ]
  },
  {
   "cell_type": "markdown",
   "id": "52ffe5b2",
   "metadata": {},
   "source": [
    "### Probit model\n",
    "---"
   ]
  },
  {
   "cell_type": "code",
   "execution_count": 119,
   "id": "0f4781df",
   "metadata": {},
   "outputs": [
    {
     "name": "stdout",
     "output_type": "stream",
     "text": [
      "Warning: Maximum number of iterations has been exceeded.\n",
      "         Current function value: 0.084801\n",
      "         Iterations: 35\n",
      "                          Probit Regression Results                           \n",
      "==============================================================================\n",
      "Dep. Variable:                   spam   No. Observations:                 5572\n",
      "Model:                         Probit   Df Residuals:                     5548\n",
      "Method:                           MLE   Df Model:                           23\n",
      "Date:                Sat, 17 Jun 2023   Pseudo R-squ.:                  0.7848\n",
      "Time:                        20:11:17   Log-Likelihood:                -472.51\n",
      "converged:                      False   LL-Null:                       -2195.6\n",
      "Covariance Type:            nonrobust   LLR p-value:                     0.000\n",
      "=========================================================================================\n",
      "                            coef    std err          z      P>|z|      [0.025      0.975]\n",
      "-----------------------------------------------------------------------------------------\n",
      "Intercept                -2.2321      0.061    -36.431      0.000      -2.352      -2.112\n",
      "word_freq_call           -3.0682      1.010     -3.037      0.002      -5.048      -1.088\n",
      "word_freq_get            -0.1846      0.816     -0.226      0.821      -1.783       1.414\n",
      "word_freq_ur             -1.1577      0.835     -1.387      0.166      -2.794       0.479\n",
      "word_freq_gt            -14.9780   7.81e+05  -1.92e-05      1.000   -1.53e+06    1.53e+06\n",
      "word_freq_lt            -38.8083   6.73e+05  -5.77e-05      1.000   -1.32e+06    1.32e+06\n",
      "word_freq_go             -0.2868      0.757     -0.379      0.705      -1.771       1.197\n",
      "word_freq_free            3.0220      0.419      7.218      0.000       2.201       3.843\n",
      "word_freq_come           -0.5091      1.095     -0.465      0.642      -2.655       1.636\n",
      "word_freq_day            -0.3404      0.797     -0.427      0.669      -1.902       1.222\n",
      "word_freq_time           -0.8513      1.052     -0.809      0.418      -2.914       1.211\n",
      "word_freq_text            1.9207      0.347      5.528      0.000       1.240       2.602\n",
      "word_freq_love           -2.2725      1.616     -1.406      0.160      -5.440       0.895\n",
      "word_freq_send            0.5875      0.701      0.838      0.402      -0.787       1.961\n",
      "word_freq_need           -1.4221      1.381     -1.030      0.303      -4.129       1.285\n",
      "word_freq_going          -1.8651      1.649     -1.131      0.258      -5.097       1.367\n",
      "word_freq_sorry          -3.8238      2.008     -1.904      0.057      -7.760       0.112\n",
      "word_freq_still          -4.7817      3.544     -1.349      0.177     -11.728       2.165\n",
      "word_freq_take           -0.6396      1.117     -0.572      0.567      -2.830       1.550\n",
      "word_freq_da            -48.1537   1.42e+04     -0.003      0.997   -2.79e+04    2.78e+04\n",
      "word_freq_dont           -0.2995      0.984     -0.304      0.761      -2.228       1.629\n",
      "word_freq_later         -61.9383   8.22e+04     -0.001      0.999   -1.61e+05    1.61e+05\n",
      "word_freq_exclamation     2.3871      0.507      4.705      0.000       1.393       3.382\n",
      "word_freq_digit_count     0.3589      0.016     23.073      0.000       0.328       0.389\n",
      "=========================================================================================\n",
      "\n",
      "Possibly complete quasi-separation: A fraction 0.19 of observations can be\n",
      "perfectly predicted. This might indicate that there is complete\n",
      "quasi-separation. In this case some parameters will not be identified.\n"
     ]
    },
    {
     "name": "stderr",
     "output_type": "stream",
     "text": [
      "C:\\ProgramData\\Anaconda3\\lib\\site-packages\\statsmodels\\base\\model.py:566: ConvergenceWarning: Maximum Likelihood optimization failed to converge. Check mle_retvals\n",
      "  warnings.warn(\"Maximum Likelihood optimization failed to \"\n"
     ]
    }
   ],
   "source": [
    "myprobit = sm.Probit.from_formula(formula, data=spam).fit()\n",
    "print(myprobit.summary())"
   ]
  },
  {
   "cell_type": "markdown",
   "id": "d5a94060",
   "metadata": {},
   "source": [
    "### Logit model\n",
    "---"
   ]
  },
  {
   "cell_type": "code",
   "execution_count": 120,
   "id": "69db3ff8",
   "metadata": {},
   "outputs": [
    {
     "name": "stdout",
     "output_type": "stream",
     "text": [
      "Warning: Maximum number of iterations has been exceeded.\n",
      "         Current function value: 0.084299\n",
      "         Iterations: 35\n",
      "                           Logit Regression Results                           \n",
      "==============================================================================\n",
      "Dep. Variable:                   spam   No. Observations:                 5572\n",
      "Model:                          Logit   Df Residuals:                     5548\n",
      "Method:                           MLE   Df Model:                           23\n",
      "Date:                Sat, 17 Jun 2023   Pseudo R-squ.:                  0.7861\n",
      "Time:                        20:11:20   Log-Likelihood:                -469.72\n",
      "converged:                      False   LL-Null:                       -2195.6\n",
      "Covariance Type:            nonrobust   LLR p-value:                     0.000\n",
      "=========================================================================================\n",
      "                            coef    std err          z      P>|z|      [0.025      0.975]\n",
      "-----------------------------------------------------------------------------------------\n",
      "Intercept                -4.2063      0.143    -29.436      0.000      -4.486      -3.926\n",
      "word_freq_call           -5.9051      2.032     -2.906      0.004      -9.887      -1.923\n",
      "word_freq_get            -0.1263      1.687     -0.075      0.940      -3.432       3.180\n",
      "word_freq_ur             -3.6651      1.709     -2.145      0.032      -7.015      -0.316\n",
      "word_freq_gt            -52.1552   1.26e+05     -0.000      1.000   -2.47e+05    2.47e+05\n",
      "word_freq_lt            -70.7824   1.08e+05     -0.001      0.999   -2.12e+05    2.12e+05\n",
      "word_freq_go             -0.7489      1.788     -0.419      0.675      -4.253       2.755\n",
      "word_freq_free            5.6490      0.834      6.770      0.000       4.013       7.285\n",
      "word_freq_come           -1.6813      2.853     -0.589      0.556      -7.272       3.910\n",
      "word_freq_day            -0.5304      1.635     -0.324      0.746      -3.735       2.674\n",
      "word_freq_time           -2.1441      2.459     -0.872      0.383      -6.963       2.675\n",
      "word_freq_text            3.6967      0.615      6.011      0.000       2.491       4.902\n",
      "word_freq_love           -6.3427      4.199     -1.510      0.131     -14.574       1.888\n",
      "word_freq_send            1.5300      1.418      1.079      0.281      -1.250       4.310\n",
      "word_freq_need           -4.3002      4.018     -1.070      0.285     -12.176       3.576\n",
      "word_freq_going          -6.3393      5.609     -1.130      0.258     -17.333       4.654\n",
      "word_freq_sorry          -6.5950      3.628     -1.818      0.069     -13.705       0.515\n",
      "word_freq_still          -9.5567      7.176     -1.332      0.183     -23.622       4.508\n",
      "word_freq_take           -2.7223      3.339     -0.815      0.415      -9.267       3.822\n",
      "word_freq_da           -100.8663   1725.577     -0.058      0.953   -3482.936    3281.203\n",
      "word_freq_dont           -0.9747      2.531     -0.385      0.700      -5.935       3.986\n",
      "word_freq_later        -149.2632   1.54e+04     -0.010      0.992   -3.04e+04    3.01e+04\n",
      "word_freq_exclamation     4.5261      0.975      4.640      0.000       2.614       6.438\n",
      "word_freq_digit_count     0.7350      0.038     19.591      0.000       0.661       0.809\n",
      "=========================================================================================\n",
      "\n",
      "Possibly complete quasi-separation: A fraction 0.16 of observations can be\n",
      "perfectly predicted. This might indicate that there is complete\n",
      "quasi-separation. In this case some parameters will not be identified.\n"
     ]
    },
    {
     "name": "stderr",
     "output_type": "stream",
     "text": [
      "C:\\ProgramData\\Anaconda3\\lib\\site-packages\\statsmodels\\base\\model.py:566: ConvergenceWarning: Maximum Likelihood optimization failed to converge. Check mle_retvals\n",
      "  warnings.warn(\"Maximum Likelihood optimization failed to \"\n"
     ]
    }
   ],
   "source": [
    "mylogit = sm.Logit.from_formula(formula, data=spam).fit()\n",
    "print(mylogit.summary())"
   ]
  },
  {
   "cell_type": "markdown",
   "id": "433aef44",
   "metadata": {},
   "source": [
    "# Significance test of models\n",
    "\n",
    "Both models p-values are 0, so null hypothesis can be rejected. It means that the model`s coefficients are jointly significant"
   ]
  },
  {
   "cell_type": "code",
   "execution_count": 121,
   "id": "3af6d927",
   "metadata": {},
   "outputs": [
    {
     "name": "stdout",
     "output_type": "stream",
     "text": [
      "Optimization terminated successfully.\n",
      "         Current function value: 0.394038\n",
      "         Iterations 5\n",
      "Probit likelihood ratio test p-value: 0.0\n"
     ]
    },
    {
     "name": "stderr",
     "output_type": "stream",
     "text": [
      "C:\\ProgramData\\Anaconda3\\lib\\site-packages\\statsmodels\\tsa\\tsatools.py:142: FutureWarning: In a future version of pandas all arguments of concat except for the argument 'objs' will be keyword-only\n",
      "  x = pd.concat(x[::order], 1)\n"
     ]
    }
   ],
   "source": [
    "null_probit = sm.Probit(spam[\"spam\"], sm.add_constant(pd.Series([1] * len(spam)))).fit()\n",
    "probit_lrtest = stats.chi2.sf(2 * (myprobit.llf - null_probit.llf), 1)\n",
    "print(\"Probit likelihood ratio test p-value:\", probit_lrtest)"
   ]
  },
  {
   "cell_type": "code",
   "execution_count": 122,
   "id": "fb8447e9",
   "metadata": {},
   "outputs": [
    {
     "name": "stdout",
     "output_type": "stream",
     "text": [
      "Optimization terminated successfully.\n",
      "         Current function value: 0.394038\n",
      "         Iterations 6\n",
      "Logit likelihood ratio test p-value: 0.0\n"
     ]
    }
   ],
   "source": [
    "null_logit = sm.Logit(spam[\"spam\"], sm.add_constant(pd.Series([1] * len(spam)))).fit()\n",
    "logit_lrtest = stats.chi2.sf(2 * (mylogit.llf - null_logit.llf), 1)\n",
    "print(\"Logit likelihood ratio test p-value:\", logit_lrtest)"
   ]
  },
  {
   "cell_type": "markdown",
   "id": "68ab87c0",
   "metadata": {},
   "source": [
    "## Stepwise regression"
   ]
  },
  {
   "cell_type": "code",
   "execution_count": 123,
   "id": "f50e6e0b",
   "metadata": {},
   "outputs": [
    {
     "name": "stdout",
     "output_type": "stream",
     "text": [
      "word_freq_gt\n",
      "Warning: Maximum number of iterations has been exceeded.\n",
      "         Current function value: 0.084816\n",
      "         Iterations: 35\n",
      "991.1940869610173\n",
      "word_freq_da\n"
     ]
    },
    {
     "name": "stderr",
     "output_type": "stream",
     "text": [
      "C:\\ProgramData\\Anaconda3\\lib\\site-packages\\statsmodels\\base\\model.py:566: ConvergenceWarning: Maximum Likelihood optimization failed to converge. Check mle_retvals\n",
      "  warnings.warn(\"Maximum Likelihood optimization failed to \"\n",
      "C:\\ProgramData\\Anaconda3\\lib\\site-packages\\statsmodels\\base\\model.py:566: ConvergenceWarning: Maximum Likelihood optimization failed to converge. Check mle_retvals\n",
      "  warnings.warn(\"Maximum Likelihood optimization failed to \"\n"
     ]
    },
    {
     "name": "stdout",
     "output_type": "stream",
     "text": [
      "Warning: Maximum number of iterations has been exceeded.\n",
      "         Current function value: 0.085715\n",
      "         Iterations: 35\n",
      "999.2063848097096\n",
      "word_freq_lt\n",
      "Warning: Maximum number of iterations has been exceeded.\n",
      "         Current function value: 0.090247\n",
      "         Iterations: 35\n",
      "1047.7131104852485\n",
      "word_freq_later\n"
     ]
    },
    {
     "name": "stderr",
     "output_type": "stream",
     "text": [
      "C:\\ProgramData\\Anaconda3\\lib\\site-packages\\statsmodels\\base\\model.py:566: ConvergenceWarning: Maximum Likelihood optimization failed to converge. Check mle_retvals\n",
      "  warnings.warn(\"Maximum Likelihood optimization failed to \"\n"
     ]
    },
    {
     "name": "stdout",
     "output_type": "stream",
     "text": [
      "Optimization terminated successfully.\n",
      "         Current function value: 0.090668\n",
      "         Iterations 10\n",
      "1050.4072904922891\n",
      "word_freq_get\n",
      "Optimization terminated successfully.\n",
      "         Current function value: 0.090669\n",
      "         Iterations 10\n",
      "1048.4154478192277\n",
      "word_freq_go\n",
      "Optimization terminated successfully.\n",
      "         Current function value: 0.090671\n",
      "         Iterations 10\n",
      "1046.4426142168152\n",
      "word_freq_dont\n",
      "Optimization terminated successfully.\n",
      "         Current function value: 0.090676\n",
      "         Iterations 10\n",
      "1044.4917974879752\n",
      "word_freq_day\n",
      "Optimization terminated successfully.\n",
      "         Current function value: 0.090683\n",
      "         Iterations 10\n",
      "1042.5711276093857\n",
      "word_freq_take\n",
      "Optimization terminated successfully.\n",
      "         Current function value: 0.090704\n",
      "         Iterations 10\n",
      "1040.8103242756306\n",
      "word_freq_come\n",
      "Optimization terminated successfully.\n",
      "         Current function value: 0.090728\n",
      "         Iterations 10\n",
      "1039.0676621119137\n",
      "word_freq_send\n",
      "Optimization terminated successfully.\n",
      "         Current function value: 0.090776\n",
      "         Iterations 10\n",
      "1037.6113412700504\n",
      "word_freq_time\n",
      "Optimization terminated successfully.\n",
      "         Current function value: 0.090851\n",
      "         Iterations 10\n",
      "1036.4489011521632\n",
      "word_freq_need\n",
      "Optimization terminated successfully.\n",
      "         Current function value: 0.090967\n",
      "         Iterations 10\n",
      "1035.7413734538893\n",
      "word_freq_going\n",
      "Optimization terminated successfully.\n",
      "         Current function value: 0.091161\n",
      "         Iterations 10\n",
      "1035.8955467500268\n",
      "word_freq_ur\n",
      "Optimization terminated successfully.\n",
      "         Current function value: 0.091284\n",
      "         Iterations 10\n",
      "1035.2711955708116\n",
      "word_freq_still\n",
      "Optimization terminated successfully.\n",
      "         Current function value: 0.091649\n",
      "         Iterations 10\n",
      "1037.3409034703457\n",
      "word_freq_love\n",
      "Optimization terminated successfully.\n",
      "         Current function value: 0.091952\n",
      "         Iterations 10\n",
      "1038.7099279546596\n",
      "word_freq_sorry\n",
      "Optimization terminated successfully.\n",
      "         Current function value: 0.092441\n",
      "         Iterations 8\n",
      "1042.1626013693967\n"
     ]
    }
   ],
   "source": [
    "p_probit = myprobit.pvalues\n",
    "spam_temp_probit = spam.copy()\n",
    "\n",
    "while any(p_probit > 0.05):\n",
    "    worstp = p_probit.idxmax()\n",
    "    \n",
    "    print(worstp)\n",
    "    spam_temp_probit.drop(columns=worstp, inplace=True)\n",
    "    \n",
    "    formula = \"spam ~\"\n",
    "    \n",
    "    for column in spam_temp_probit.columns[1:]:\n",
    "        formula += f\" + {column}\"\n",
    "    \n",
    "    myprobit = sm.Probit.from_formula(formula, data=spam_temp_probit).fit()\n",
    "    p_probit = myprobit.pvalues\n",
    "    print(myprobit.aic)"
   ]
  },
  {
   "cell_type": "code",
   "execution_count": 124,
   "id": "09ce8b5c",
   "metadata": {},
   "outputs": [
    {
     "name": "stdout",
     "output_type": "stream",
     "text": [
      "word_freq_gt\n"
     ]
    },
    {
     "name": "stderr",
     "output_type": "stream",
     "text": [
      "C:\\ProgramData\\Anaconda3\\lib\\site-packages\\statsmodels\\discrete\\discrete_model.py:1810: RuntimeWarning: overflow encountered in exp\n",
      "  return 1/(1+np.exp(-X))\n",
      "C:\\ProgramData\\Anaconda3\\lib\\site-packages\\statsmodels\\base\\model.py:566: ConvergenceWarning: Maximum Likelihood optimization failed to converge. Check mle_retvals\n",
      "  warnings.warn(\"Maximum Likelihood optimization failed to \"\n",
      "C:\\ProgramData\\Anaconda3\\lib\\site-packages\\statsmodels\\base\\model.py:566: ConvergenceWarning: Maximum Likelihood optimization failed to converge. Check mle_retvals\n",
      "  warnings.warn(\"Maximum Likelihood optimization failed to \"\n"
     ]
    },
    {
     "name": "stdout",
     "output_type": "stream",
     "text": [
      "Warning: Maximum number of iterations has been exceeded.\n",
      "         Current function value: 0.084316\n",
      "         Iterations: 35\n",
      "985.6201246859478\n",
      "word_freq_da\n",
      "Warning: Maximum number of iterations has been exceeded.\n",
      "         Current function value: 0.085355\n",
      "         Iterations: 35\n",
      "995.1955540349777\n",
      "word_freq_lt\n",
      "Warning: Maximum number of iterations has been exceeded.\n",
      "         Current function value: 0.090632\n",
      "         Iterations: 35\n"
     ]
    },
    {
     "name": "stderr",
     "output_type": "stream",
     "text": [
      "C:\\ProgramData\\Anaconda3\\lib\\site-packages\\statsmodels\\base\\model.py:566: ConvergenceWarning: Maximum Likelihood optimization failed to converge. Check mle_retvals\n",
      "  warnings.warn(\"Maximum Likelihood optimization failed to \"\n"
     ]
    },
    {
     "name": "stdout",
     "output_type": "stream",
     "text": [
      "1051.9988162051395\n",
      "word_freq_later\n",
      "Optimization terminated successfully.\n",
      "         Current function value: 0.091062\n",
      "         Iterations 11\n",
      "1054.7944439196922\n",
      "word_freq_get\n",
      "Optimization terminated successfully.\n",
      "         Current function value: 0.091063\n",
      "         Iterations 11\n",
      "1052.801501186288\n",
      "word_freq_day\n",
      "Optimization terminated successfully.\n",
      "         Current function value: 0.091064\n",
      "         Iterations 11\n",
      "1050.8192514721536\n",
      "word_freq_go\n",
      "Optimization terminated successfully.\n",
      "         Current function value: 0.091069\n",
      "         Iterations 11\n",
      "1048.8679678238063\n",
      "word_freq_dont\n",
      "Optimization terminated successfully.\n",
      "         Current function value: 0.091080\n",
      "         Iterations 11\n",
      "1046.9987516065285\n",
      "word_freq_come\n",
      "Optimization terminated successfully.\n",
      "         Current function value: 0.091120\n",
      "         Iterations 11\n",
      "1045.4394448721005\n",
      "word_freq_take\n",
      "Optimization terminated successfully.\n",
      "         Current function value: 0.091180\n",
      "         Iterations 11\n",
      "1044.1081245022165\n",
      "word_freq_time\n",
      "Optimization terminated successfully.\n",
      "         Current function value: 0.091261\n",
      "         Iterations 11\n",
      "1043.009973580889\n",
      "word_freq_send\n",
      "Optimization terminated successfully.\n",
      "         Current function value: 0.091332\n",
      "         Iterations 11\n",
      "1041.8052523645847\n",
      "word_freq_need\n",
      "Optimization terminated successfully.\n",
      "         Current function value: 0.091494\n",
      "         Iterations 11\n",
      "1041.609751512806\n",
      "word_freq_going\n",
      "Optimization terminated successfully.\n",
      "         Current function value: 0.091765\n",
      "         Iterations 11\n",
      "1042.6304617980154\n",
      "word_freq_still\n",
      "Optimization terminated successfully.\n",
      "         Current function value: 0.092112\n",
      "         Iterations 10\n",
      "1044.4921206580443\n",
      "word_freq_love\n",
      "Optimization terminated successfully.\n",
      "         Current function value: 0.092502\n",
      "         Iterations 10\n",
      "1046.8384023261972\n",
      "word_freq_sorry\n",
      "Optimization terminated successfully.\n",
      "         Current function value: 0.092979\n",
      "         Iterations 9\n",
      "1050.1593483933707\n",
      "word_freq_ur\n",
      "Optimization terminated successfully.\n",
      "         Current function value: 0.093262\n",
      "         Iterations 9\n",
      "1051.313098615637\n"
     ]
    }
   ],
   "source": [
    "p_logit = mylogit.pvalues\n",
    "spam_temp_logit = spam.copy()\n",
    "\n",
    "while any(p_logit > 0.05):\n",
    "    worstp = p_logit.idxmax()\n",
    "    \n",
    "    print(worstp)\n",
    "    spam_temp_logit.drop(columns=worstp, inplace=True)\n",
    "    \n",
    "    formula = \"spam ~\"\n",
    "    \n",
    "    for column in spam_temp_logit.columns[1:]:\n",
    "        formula += f\" + {column}\"\n",
    "    \n",
    "    mylogit = sm.Logit.from_formula(formula, data=spam_temp_logit).fit()\n",
    "    p_logit = mylogit.pvalues\n",
    "    print(mylogit.aic)"
   ]
  },
  {
   "cell_type": "markdown",
   "id": "530c1348",
   "metadata": {},
   "source": [
    "### Interaction terms\n",
    "Adding interaction terms and deleting insignificant ones for probit."
   ]
  },
  {
   "cell_type": "code",
   "execution_count": 70,
   "id": "84cf5b2a",
   "metadata": {},
   "outputs": [
    {
     "data": {
      "text/plain": [
       "Index(['spam', 'word_freq_call', 'word_freq_get', 'word_freq_ur',\n",
       "       'word_freq_gt', 'word_freq_lt', 'word_freq_go', 'word_freq_free',\n",
       "       'word_freq_come', 'word_freq_day', 'word_freq_time', 'word_freq_text',\n",
       "       'word_freq_love', 'word_freq_send', 'word_freq_need', 'word_freq_going',\n",
       "       'word_freq_sorry', 'word_freq_still', 'word_freq_take', 'word_freq_da',\n",
       "       'word_freq_dont', 'word_freq_later', 'word_freq_exclamation',\n",
       "       'word_freq_digit_count'],\n",
       "      dtype='object')"
      ]
     },
     "execution_count": 70,
     "metadata": {},
     "output_type": "execute_result"
    }
   ],
   "source": [
    "spam.columns"
   ]
  },
  {
   "cell_type": "code",
   "execution_count": 166,
   "id": "3e294c97",
   "metadata": {},
   "outputs": [
    {
     "name": "stdout",
     "output_type": "stream",
     "text": [
      "Optimization terminated successfully.\n",
      "         Current function value: 0.339735\n",
      "         Iterations 8\n"
     ]
    }
   ],
   "source": [
    "formula_interactions = \"spam ~  word_freq_free * word_freq_exclamation  + word_freq_send \"\n",
    "myprobit = sm.Probit.from_formula(formula_interactions, data=spam).fit()\n",
    "p_probit = myprobit.pvalues\n",
    "spam_temp_probit = spam.copy()\n",
    "\n",
    "while any(p_probit > 0.05):\n",
    "    worstp = p_probit.idxmax()\n",
    "    \n",
    "    print(worstp)\n",
    "    spam_temp_probit.drop(columns=worstp, inplace=True)\n",
    "    \n",
    "    formula = formula_interactions\n",
    "    \n",
    "    for column in spam_temp_probit.columns[1:]:\n",
    "        formula += f\" + {column}\"\n",
    "    \n",
    "    myprobit = sm.Probit.from_formula(formula, data=spam_temp_probit).fit()\n",
    "    p_probit = myprobit.pvalues\n",
    "    print(myprobit.aic)\n"
   ]
  },
  {
   "cell_type": "code",
   "execution_count": 158,
   "id": "9e14db41",
   "metadata": {},
   "outputs": [
    {
     "name": "stdout",
     "output_type": "stream",
     "text": [
      "Optimization terminated successfully.\n",
      "         Current function value: 0.340333\n",
      "         Iterations 9\n"
     ]
    }
   ],
   "source": [
    "mylogit = sm.Logit.from_formula(formula_interactions, data=spam).fit()\n",
    "p_logit = mylogit.pvalues\n",
    "spam_temp_probit = spam.copy()\n",
    "\n",
    "while any(p_logit > 0.05):\n",
    "    worstp = p_logit.idxmax()\n",
    "    \n",
    "    print(worstp)\n",
    "    spam_temp_logit.drop(columns=worstp, inplace=True)\n",
    "    \n",
    "    formula = formula_interactions\n",
    "    \n",
    "    for column in spam_temp_logit.columns[1:]:\n",
    "        formula += f\" + {column}\"\n",
    "    \n",
    "    mylogit = sm.Logit.from_formula(formula, data=spam_temp_logit).fit()\n",
    "    p_logit = mylogit.pvalues\n",
    "    print(mylogit.aic)"
   ]
  },
  {
   "cell_type": "code",
   "execution_count": 160,
   "id": "ea06bec7",
   "metadata": {},
   "outputs": [
    {
     "name": "stdout",
     "output_type": "stream",
     "text": [
      "Probit likelihood ratio test p-value: 1.2652102247814454e-133\n"
     ]
    }
   ],
   "source": [
    "probit_lrtest = stats.chi2.sf(2 * (myprobit.llf - null_probit.llf), 1)\n",
    "print(\"Probit likelihood ratio test p-value:\", probit_lrtest)"
   ]
  },
  {
   "cell_type": "code",
   "execution_count": 161,
   "id": "b9fe58cb",
   "metadata": {},
   "outputs": [
    {
     "name": "stdout",
     "output_type": "stream",
     "text": [
      "Logit likelihood ratio test p-value: 3.567628329112654e-132\n"
     ]
    }
   ],
   "source": [
    "logit_lrtest = stats.chi2.sf(2 * (mylogit.llf - null_logit.llf), 1)\n",
    "print(\"Logit likelihood ratio test p-value:\", logit_lrtest)"
   ]
  },
  {
   "cell_type": "markdown",
   "id": "253fcb9c",
   "metadata": {},
   "source": [
    "## Recration from line 267 from R code"
   ]
  },
  {
   "cell_type": "code",
   "execution_count": 167,
   "id": "add39fca",
   "metadata": {},
   "outputs": [
    {
     "name": "stdout",
     "output_type": "stream",
     "text": [
      "Optimization terminated successfully.\n",
      "         Current function value: 0.339735\n",
      "         Iterations 8\n",
      "Intercept                               0.000000e+00\n",
      "word_freq_free                          1.892276e-34\n",
      "word_freq_exclamation                   2.398555e-58\n",
      "word_freq_free:word_freq_exclamation    3.194177e-08\n",
      "word_freq_send                          8.336926e-04\n",
      "dtype: float64\n"
     ]
    }
   ],
   "source": [
    "formula_interactions = \"spam ~  word_freq_free * word_freq_exclamation  + word_freq_send \"\n",
    "\n",
    "myprobit = sm.Probit.from_formula(formula=formula_interactions, data=spam).fit()\n",
    "\n",
    "p = myprobit.pvalues\n",
    "print(p)"
   ]
  },
  {
   "cell_type": "code",
   "execution_count": 168,
   "id": "f2cf4f78",
   "metadata": {},
   "outputs": [],
   "source": [
    "i = 1\n",
    "while any(p > 0.05):\n",
    "    worstp = p.idxmax()\n",
    "    print(worstp)\n",
    "\n",
    "    if i == 1:\n",
    "        # Remove the outcome variable from the formula\n",
    "        formula_interactions = formula_interactions.replace(\"spam ~ \", \"\")\n",
    "\n",
    "        # Create the design matrix with interaction terms\n",
    "        X = patsy.dmatrix(formula_interactions, data=spam)\n",
    "\n",
    "        # Convert the design matrix to a DataFrame\n",
    "        X = pd.DataFrame(X, columns=X.design_info.column_names)\n",
    "        i=2\n",
    "    else:\n",
    "        X = X.drop(worstp, axis=1)\n",
    "        X_names = ['Intercept'] + list(X.columns)[1:]\n",
    "        X.columns = X_names\n",
    "\n",
    "        myprobit = sm.Probit(spam['spam'], X).fit()\n",
    "\n",
    "        print(myprobit.summary())\n",
    "        p = myprobit.pvalues\n",
    "        print(myprobit.aic)"
   ]
  },
  {
   "cell_type": "markdown",
   "id": "a330ab19",
   "metadata": {},
   "source": [
    "# New Data Old Words\n",
    "\n",
    "In this part of the analysis we will try to recreate the previous research on the new data directly."
   ]
  },
  {
   "cell_type": "code",
   "execution_count": 94,
   "id": "c948944a",
   "metadata": {},
   "outputs": [],
   "source": [
    "spam_previous_words = pd.read_csv(\"new_data_old_words.csv\")\n",
    "spam_previous_words.dropna(inplace = True)\n",
    "\n",
    "#Renaming character columns to a less error-prone form\n",
    "spam_previous_words.rename(columns = {'$':'dollar',\n",
    "                       '!': 'exclamation',\n",
    "                      \"#\": \"hashtag\",\n",
    "                       \"(\":\"parenthesis\",\n",
    "                       \"[\": \"brackets\",\n",
    "                       \";\": \"semicolon\",\n",
    "                       \"€\": \"euro\",\n",
    "                       \"@\": \"at\", \n",
    "                       \"?\": \"question\"\n",
    "                      }, inplace = True)\n",
    "\n",
    "#Drop columns not neccessary to the analysis\n",
    "spam_previous_words.drop(columns=['Unnamed: 0', 'processed_text', 'word_count'], inplace = True)\n",
    "\n",
    "#Rename columns to include word_freq\n",
    "column_names = spam_previous_words.columns.tolist()\n",
    "new_column_names = ['spam'] + ['word_freq_' + column if column != 'spam' else column for column in column_names[1:]]\n",
    "\n",
    "spam_previous_words.rename(columns=dict(zip(column_names, new_column_names)), inplace=True)\n",
    "\n",
    "#Convert the dependent variable to a numeric one\n",
    "spam_previous_words['spam'] = spam_previous_words['spam'].replace({\n",
    "    'spam': 1,\n",
    "    'ham': 0})"
   ]
  },
  {
   "cell_type": "code",
   "execution_count": 86,
   "id": "4e2a9396",
   "metadata": {},
   "outputs": [
    {
     "data": {
      "text/plain": [
       "<bound method NDFrame.describe of       spam  word_freq_make  word_freq_address  word_freq_all  word_freq_3d  \\\n",
       "0        0             0.0                0.0           0.00           0.0   \n",
       "1        0             0.0                0.0           0.00           0.0   \n",
       "2        1             0.0                0.0           0.00           0.0   \n",
       "3        0             0.0                0.0           0.00           0.0   \n",
       "4        0             0.0                0.0           0.00           0.0   \n",
       "...    ...             ...                ...            ...           ...   \n",
       "5567     1             0.0                0.0           0.04           0.0   \n",
       "5568     0             0.0                0.0           0.00           0.0   \n",
       "5569     0             0.0                0.0           0.00           0.0   \n",
       "5570     0             0.0                0.0           0.00           0.0   \n",
       "5571     0             0.0                0.0           0.00           0.0   \n",
       "\n",
       "      word_freq_our  word_freq_over  word_freq_remove  word_freq_internet  \\\n",
       "0               0.0        0.000000               0.0                 0.0   \n",
       "1               0.0        0.000000               0.0                 0.0   \n",
       "2               0.0        0.033333               0.0                 0.0   \n",
       "3               0.0        0.000000               0.0                 0.0   \n",
       "4               0.0        0.000000               0.0                 0.0   \n",
       "...             ...             ...               ...                 ...   \n",
       "5567            0.0        0.000000               0.0                 0.0   \n",
       "5568            0.0        0.000000               0.0                 0.0   \n",
       "5569            0.0        0.000000               0.0                 0.0   \n",
       "5570            0.0        0.000000               0.0                 0.0   \n",
       "5571            0.0        0.000000               0.0                 0.0   \n",
       "\n",
       "      word_freq_order  ...  word_freq_re  word_freq_edu  word_freq_table  \\\n",
       "0                 0.0  ...      0.100000            0.0              0.0   \n",
       "1                 0.0  ...      0.000000            0.0              0.0   \n",
       "2                 0.0  ...      0.066667            0.0              0.0   \n",
       "3                 0.0  ...      0.090909            0.0              0.0   \n",
       "4                 0.0  ...      0.000000            0.0              0.0   \n",
       "...               ...  ...           ...            ...              ...   \n",
       "5567              0.0  ...      0.000000            0.0              0.0   \n",
       "5568              0.0  ...      0.000000            0.0              0.0   \n",
       "5569              0.0  ...      0.000000            0.0              0.0   \n",
       "5570              0.0  ...      0.142857            0.0              0.0   \n",
       "5571              0.0  ...      0.000000            0.0              0.0   \n",
       "\n",
       "      word_freq_conference  word_freq_semicolon  word_freq_parenthesis  \\\n",
       "0                      0.0                  0.0               0.000000   \n",
       "1                      0.0                  0.0               0.000000   \n",
       "2                      0.0                  0.0               0.033333   \n",
       "3                      0.0                  0.0               0.000000   \n",
       "4                      0.0                  0.0               0.000000   \n",
       "...                    ...                  ...                    ...   \n",
       "5567                   0.0                  0.0               0.000000   \n",
       "5568                   0.0                  0.0               0.000000   \n",
       "5569                   0.0                  0.0               0.000000   \n",
       "5570                   0.0                  0.0               0.000000   \n",
       "5571                   0.0                  0.0               0.000000   \n",
       "\n",
       "      word_freq_brackets  word_freq_exclamation  word_freq_dollar  \\\n",
       "0                    0.0                   0.00               0.0   \n",
       "1                    0.0                   0.00               0.0   \n",
       "2                    0.0                   0.00               0.0   \n",
       "3                    0.0                   0.00               0.0   \n",
       "4                    0.0                   0.00               0.0   \n",
       "...                  ...                    ...               ...   \n",
       "5567                 0.0                   0.04               0.0   \n",
       "5568                 0.0                   0.00               0.0   \n",
       "5569                 0.0                   0.00               0.0   \n",
       "5570                 0.0                   0.00               0.0   \n",
       "5571                 0.0                   0.00               0.0   \n",
       "\n",
       "      word_freq_hashtag  \n",
       "0                   0.0  \n",
       "1                   0.0  \n",
       "2                   0.0  \n",
       "3                   0.0  \n",
       "4                   0.0  \n",
       "...                 ...  \n",
       "5567                0.0  \n",
       "5568                0.0  \n",
       "5569                0.0  \n",
       "5570                0.0  \n",
       "5571                0.0  \n",
       "\n",
       "[5572 rows x 55 columns]>"
      ]
     },
     "execution_count": 86,
     "metadata": {},
     "output_type": "execute_result"
    }
   ],
   "source": [
    "spam_previous_words.describe"
   ]
  },
  {
   "cell_type": "markdown",
   "id": "5aa99a0b",
   "metadata": {},
   "source": [
    "We once again remove the columns with very low variances to ensure that the selected models run smoothly. We decrease the treshold as the previously used words are less frequently found in the new dataset. "
   ]
  },
  {
   "cell_type": "code",
   "execution_count": 99,
   "id": "981e1dc2",
   "metadata": {},
   "outputs": [
    {
     "data": {
      "text/plain": [
       "spam                     0.116111\n",
       "word_freq_make           0.000206\n",
       "word_freq_all            0.002106\n",
       "word_freq_our            0.000249\n",
       "word_freq_free           0.000335\n",
       "word_freq_meeting        0.000171\n",
       "word_freq_re             0.005786\n",
       "word_freq_edu            0.000193\n",
       "word_freq_semicolon      0.000912\n",
       "word_freq_exclamation    0.002293\n",
       "word_freq_hashtag        0.000174\n",
       "dtype: float64"
      ]
     },
     "execution_count": 99,
     "metadata": {},
     "output_type": "execute_result"
    }
   ],
   "source": [
    "variance = spam_previous_words.var()\n",
    "\n",
    "# Set the threshold value\n",
    "threshold = 0.00017\n",
    "\n",
    "# Filter columns based on variance threshold\n",
    "filtered_columns = variance[variance >= threshold].index\n",
    "\n",
    "# Create a new DataFrame with selected columns\n",
    "spam_previous_words = spam_previous_words[filtered_columns]\n",
    "\n",
    "spam_previous_words.var()"
   ]
  },
  {
   "cell_type": "markdown",
   "id": "83aba347",
   "metadata": {},
   "source": [
    "## Start from the most general model that contains all explanatory variables"
   ]
  },
  {
   "cell_type": "code",
   "execution_count": 100,
   "id": "09a2cd12",
   "metadata": {},
   "outputs": [],
   "source": [
    "formula = \"spam ~ \" + \" + \".join(spam_previous_words.columns[1:])"
   ]
  },
  {
   "cell_type": "markdown",
   "id": "add025ef",
   "metadata": {},
   "source": [
    "### Probit model\n",
    "---"
   ]
  },
  {
   "cell_type": "code",
   "execution_count": 101,
   "id": "47cb6ad9",
   "metadata": {},
   "outputs": [
    {
     "name": "stdout",
     "output_type": "stream",
     "text": [
      "Warning: Maximum number of iterations has been exceeded.\n",
      "         Current function value: 0.346699\n",
      "         Iterations: 35\n",
      "                          Probit Regression Results                           \n",
      "==============================================================================\n",
      "Dep. Variable:                   spam   No. Observations:                 5572\n",
      "Model:                         Probit   Df Residuals:                     5561\n",
      "Method:                           MLE   Df Model:                           10\n",
      "Date:                Sat, 17 Jun 2023   Pseudo R-squ.:                  0.1201\n",
      "Time:                        19:54:57   Log-Likelihood:                -1931.8\n",
      "converged:                      False   LL-Null:                       -2195.6\n",
      "Covariance Type:            nonrobust   LLR p-value:                5.689e-107\n",
      "=========================================================================================\n",
      "                            coef    std err          z      P>|z|      [0.025      0.975]\n",
      "-----------------------------------------------------------------------------------------\n",
      "Intercept                -1.3365      0.030    -44.156      0.000      -1.396      -1.277\n",
      "word_freq_make           -2.8613      2.004     -1.428      0.153      -6.788       1.066\n",
      "word_freq_all             3.4102      0.418      8.157      0.000       2.591       4.230\n",
      "word_freq_our            -1.5310      1.753     -0.873      0.383      -4.967       1.905\n",
      "word_freq_free           13.3079      0.943     14.117      0.000      11.460      15.156\n",
      "word_freq_meeting       -63.2651    258.498     -0.245      0.807    -569.913     443.382\n",
      "word_freq_re              0.6952      0.293      2.370      0.018       0.120       1.270\n",
      "word_freq_edu             0.0336      1.786      0.019      0.985      -3.467       3.534\n",
      "word_freq_semicolon     -15.5432      3.426     -4.536      0.000     -22.259      -8.828\n",
      "word_freq_exclamation     3.9516      0.382     10.334      0.000       3.202       4.701\n",
      "word_freq_hashtag         8.6956      5.876      1.480      0.139      -2.821      20.212\n",
      "=========================================================================================\n"
     ]
    },
    {
     "name": "stderr",
     "output_type": "stream",
     "text": [
      "C:\\ProgramData\\Anaconda3\\lib\\site-packages\\statsmodels\\base\\model.py:566: ConvergenceWarning: Maximum Likelihood optimization failed to converge. Check mle_retvals\n",
      "  warnings.warn(\"Maximum Likelihood optimization failed to \"\n"
     ]
    }
   ],
   "source": [
    "myprobit = sm.Probit.from_formula(formula, data=spam_previous_words).fit()\n",
    "print(myprobit.summary())"
   ]
  },
  {
   "cell_type": "markdown",
   "id": "023a5ea7",
   "metadata": {},
   "source": [
    "### Logit model\n",
    "---"
   ]
  },
  {
   "cell_type": "code",
   "execution_count": 102,
   "id": "01b7954e",
   "metadata": {},
   "outputs": [
    {
     "name": "stdout",
     "output_type": "stream",
     "text": [
      "Warning: Maximum number of iterations has been exceeded.\n",
      "         Current function value: 0.345718\n",
      "         Iterations: 35\n",
      "                           Logit Regression Results                           \n",
      "==============================================================================\n",
      "Dep. Variable:                   spam   No. Observations:                 5572\n",
      "Model:                          Logit   Df Residuals:                     5561\n",
      "Method:                           MLE   Df Model:                           10\n",
      "Date:                Sat, 17 Jun 2023   Pseudo R-squ.:                  0.1226\n",
      "Time:                        19:55:01   Log-Likelihood:                -1926.3\n",
      "converged:                      False   LL-Null:                       -2195.6\n",
      "Covariance Type:            nonrobust   LLR p-value:                2.607e-109\n",
      "=========================================================================================\n",
      "                            coef    std err          z      P>|z|      [0.025      0.975]\n",
      "-----------------------------------------------------------------------------------------\n",
      "Intercept                -2.2665      0.057    -39.851      0.000      -2.378      -2.155\n",
      "word_freq_make           -5.0935      3.852     -1.322      0.186     -12.643       2.456\n",
      "word_freq_all             5.9660      0.719      8.301      0.000       4.557       7.375\n",
      "word_freq_our            -3.1607      3.407     -0.928      0.353      -9.837       3.516\n",
      "word_freq_free           30.6567      2.325     13.185      0.000      26.100      35.214\n",
      "word_freq_meeting      -355.2737   1.48e+04     -0.024      0.981   -2.94e+04    2.86e+04\n",
      "word_freq_re              1.0368      0.521      1.988      0.047       0.015       2.059\n",
      "word_freq_edu             0.1133      3.141      0.036      0.971      -6.043       6.269\n",
      "word_freq_semicolon     -39.6419      9.498     -4.174      0.000     -58.258     -21.026\n",
      "word_freq_exclamation     6.4094      0.660      9.710      0.000       5.116       7.703\n",
      "word_freq_hashtag        22.0823     11.556      1.911      0.056      -0.566      44.731\n",
      "=========================================================================================\n"
     ]
    },
    {
     "name": "stderr",
     "output_type": "stream",
     "text": [
      "C:\\ProgramData\\Anaconda3\\lib\\site-packages\\statsmodels\\base\\model.py:566: ConvergenceWarning: Maximum Likelihood optimization failed to converge. Check mle_retvals\n",
      "  warnings.warn(\"Maximum Likelihood optimization failed to \"\n"
     ]
    }
   ],
   "source": [
    "mylogit = sm.Logit.from_formula(formula, data=spam_previous_words).fit()\n",
    "print(mylogit.summary())"
   ]
  },
  {
   "cell_type": "markdown",
   "id": "ffe4e1b1",
   "metadata": {},
   "source": [
    "# Significance test of models\n",
    "\n",
    "Both models p-values are below the 0.05 treshold, so the null hypothesis can be rejected. It means that the model`s coefficients are jointly significant"
   ]
  },
  {
   "cell_type": "code",
   "execution_count": 103,
   "id": "c057a1b6",
   "metadata": {},
   "outputs": [
    {
     "name": "stdout",
     "output_type": "stream",
     "text": [
      "Optimization terminated successfully.\n",
      "         Current function value: 0.394038\n",
      "         Iterations 5\n",
      "Probit likelihood ratio test p-value: 9.630820582497978e-117\n"
     ]
    },
    {
     "name": "stderr",
     "output_type": "stream",
     "text": [
      "C:\\ProgramData\\Anaconda3\\lib\\site-packages\\statsmodels\\tsa\\tsatools.py:142: FutureWarning: In a future version of pandas all arguments of concat except for the argument 'objs' will be keyword-only\n",
      "  x = pd.concat(x[::order], 1)\n"
     ]
    }
   ],
   "source": [
    "null_probit = sm.Probit(spam_previous_words[\"spam\"], sm.add_constant(pd.Series([1] * len(spam_previous_words)))).fit()\n",
    "probit_lrtest = stats.chi2.sf(2 * (myprobit.llf - null_probit.llf), 1)\n",
    "print(\"Probit likelihood ratio test p-value:\", probit_lrtest)"
   ]
  },
  {
   "cell_type": "code",
   "execution_count": 104,
   "id": "2fa611ed",
   "metadata": {},
   "outputs": [
    {
     "name": "stdout",
     "output_type": "stream",
     "text": [
      "Optimization terminated successfully.\n",
      "         Current function value: 0.394038\n",
      "         Iterations 5\n",
      "Logit likelihood ratio test p-value: 4.026157970994626e-119\n"
     ]
    }
   ],
   "source": [
    "null_logit = sm.Probit(spam_previous_words[\"spam\"], sm.add_constant(pd.Series([1] * len(spam_previous_words)))).fit()\n",
    "logit_lrtest = stats.chi2.sf(2 * (mylogit.llf - null_logit.llf), 1)\n",
    "print(\"Logit likelihood ratio test p-value:\", logit_lrtest)"
   ]
  },
  {
   "cell_type": "markdown",
   "id": "1b89958b",
   "metadata": {},
   "source": [
    "### Stepwise regression"
   ]
  },
  {
   "cell_type": "code",
   "execution_count": 105,
   "id": "cf49f263",
   "metadata": {},
   "outputs": [
    {
     "name": "stdout",
     "output_type": "stream",
     "text": [
      "word_freq_edu\n",
      "Warning: Maximum number of iterations has been exceeded.\n",
      "         Current function value: 0.346699\n",
      "         Iterations: 35\n",
      "3883.611568279134\n",
      "word_freq_meeting\n",
      "Optimization terminated successfully.\n",
      "         Current function value: 0.347861\n",
      "         Iterations 9\n",
      "3894.5620657017016\n",
      "word_freq_our\n",
      "Optimization terminated successfully.\n",
      "         Current function value: 0.347931\n",
      "         Iterations 9\n",
      "3893.347126774049\n",
      "word_freq_make\n",
      "Optimization terminated successfully.\n",
      "         Current function value: 0.348152\n",
      "         Iterations 9\n",
      "3893.8012646323755\n",
      "word_freq_hashtag\n",
      "Optimization terminated successfully.\n",
      "         Current function value: 0.348337\n",
      "         Iterations 9\n",
      "3893.8690589270027\n"
     ]
    },
    {
     "name": "stderr",
     "output_type": "stream",
     "text": [
      "C:\\ProgramData\\Anaconda3\\lib\\site-packages\\statsmodels\\base\\model.py:566: ConvergenceWarning: Maximum Likelihood optimization failed to converge. Check mle_retvals\n",
      "  warnings.warn(\"Maximum Likelihood optimization failed to \"\n"
     ]
    }
   ],
   "source": [
    "p_probit = myprobit.pvalues\n",
    "spam_temp_probit = spam_previous_words.copy()\n",
    "\n",
    "while any(p_probit > 0.05):\n",
    "    worstp = p_probit.idxmax()\n",
    "    \n",
    "    print(worstp)\n",
    "    spam_temp_probit.drop(columns=worstp, inplace=True)\n",
    "    \n",
    "    formula = \"spam ~\"\n",
    "    \n",
    "    for column in spam_temp_probit.columns[1:]:\n",
    "        formula += f\" + {column}\"\n",
    "    \n",
    "    myprobit = sm.Probit.from_formula(formula, data=spam_temp_probit).fit()\n",
    "    p_probit = myprobit.pvalues\n",
    "    print(myprobit.aic)"
   ]
  },
  {
   "cell_type": "code",
   "execution_count": 107,
   "id": "457ffc32",
   "metadata": {},
   "outputs": [
    {
     "name": "stdout",
     "output_type": "stream",
     "text": [
      "word_freq_meeting\n",
      "Optimization terminated successfully.\n",
      "         Current function value: 0.346883\n",
      "         Iterations 10\n",
      "3885.6663210969095\n",
      "word_freq_edu\n",
      "Optimization terminated successfully.\n",
      "         Current function value: 0.346883\n",
      "         Iterations 10\n",
      "3883.6680761623174\n",
      "word_freq_our\n",
      "Optimization terminated successfully.\n",
      "         Current function value: 0.346967\n",
      "         Iterations 10\n",
      "3882.598757849926\n",
      "word_freq_make\n",
      "Optimization terminated successfully.\n",
      "         Current function value: 0.347171\n",
      "         Iterations 10\n",
      "3882.8707237137123\n",
      "word_freq_hashtag\n",
      "Optimization terminated successfully.\n",
      "         Current function value: 0.347500\n",
      "         Iterations 10\n",
      "3884.543201635922\n"
     ]
    }
   ],
   "source": [
    "p_logit = mylogit.pvalues\n",
    "spam_temp_logit = spam_previous_words.copy()\n",
    "\n",
    "while any(p_logit > 0.05):\n",
    "    worstp = p_logit.idxmax()\n",
    "    \n",
    "    print(worstp)\n",
    "    spam_temp_logit.drop(columns=worstp, inplace=True)\n",
    "    \n",
    "    formula = \"spam ~\"\n",
    "    \n",
    "    for column in spam_temp_logit.columns[1:]:\n",
    "        formula += f\" + {column}\"\n",
    "    \n",
    "    mylogit = sm.Logit.from_formula(formula, data=spam_temp_logit).fit()\n",
    "    p_logit = mylogit.pvalues\n",
    "    print(mylogit.aic)"
   ]
  },
  {
   "cell_type": "markdown",
   "id": "ad573777",
   "metadata": {},
   "source": [
    "### Interaction terms\n",
    "---\n",
    "We include the interaction terms from the previous research. The variables that were discarded due to low variances are excluded from the interaction terms."
   ]
  },
  {
   "cell_type": "code",
   "execution_count": 108,
   "id": "38b4c506",
   "metadata": {},
   "outputs": [
    {
     "data": {
      "text/plain": [
       "Index(['spam', 'word_freq_make', 'word_freq_all', 'word_freq_our',\n",
       "       'word_freq_free', 'word_freq_meeting', 'word_freq_re', 'word_freq_edu',\n",
       "       'word_freq_semicolon', 'word_freq_exclamation', 'word_freq_hashtag'],\n",
       "      dtype='object')"
      ]
     },
     "execution_count": 108,
     "metadata": {},
     "output_type": "execute_result"
    }
   ],
   "source": [
    "spam_previous_words.columns"
   ]
  },
  {
   "cell_type": "code",
   "execution_count": 111,
   "id": "d2f3e498",
   "metadata": {},
   "outputs": [
    {
     "name": "stdout",
     "output_type": "stream",
     "text": [
      "Optimization terminated successfully.\n",
      "         Current function value: nan\n",
      "         Iterations 6\n"
     ]
    },
    {
     "name": "stderr",
     "output_type": "stream",
     "text": [
      "C:\\ProgramData\\Anaconda3\\lib\\site-packages\\statsmodels\\discrete\\discrete_model.py:2192: RuntimeWarning: invalid value encountered in true_divide\n",
      "  L = q*self.pdf(q*XB)/self.cdf(q*XB)\n"
     ]
    }
   ],
   "source": [
    "formula_interactions = \"spam ~ word_freq_make * word_freq_our  +  word_freq_re + word_freq_edu +word_freq_all+ word_freq_make+ word_freq_meeting + word_freq_our + word_freq_semicolon * word_freq_exclamation * word_freq_hashtag\"\n",
    "myprobit = sm.Probit.from_formula(formula_interactions, data=spam_previous_words).fit()\n",
    "p_probit = myprobit.pvalues\n",
    "spam_temp_probit = spam_previous_words.copy()\n",
    "\n",
    "while any(p_probit > 0.05):\n",
    "    worstp = p_probit.idxmax()\n",
    "    \n",
    "    print(worstp)\n",
    "    spam_temp_probit.drop(columns=worstp, inplace=True)\n",
    "    \n",
    "    formula = formula_interactions\n",
    "    \n",
    "    for column in spam_temp_probit.columns[:-1]:\n",
    "        formula += f\" + {column}\"\n",
    "    \n",
    "    myprobit = sm.Probit.from_formula(formula, data=spam_temp_probit).fit()\n",
    "    p_probit = myprobit.pvalues\n",
    "    print(myprobit.aic)"
   ]
  },
  {
   "cell_type": "code",
   "execution_count": 112,
   "id": "eb733213",
   "metadata": {},
   "outputs": [
    {
     "data": {
      "text/plain": [
       "Intercept                                                     NaN\n",
       "word_freq_make                                                NaN\n",
       "word_freq_our                                                 NaN\n",
       "word_freq_make:word_freq_our                                  NaN\n",
       "word_freq_re                                                  NaN\n",
       "word_freq_edu                                                 NaN\n",
       "word_freq_all                                                 NaN\n",
       "word_freq_meeting                                             NaN\n",
       "word_freq_semicolon                                           NaN\n",
       "word_freq_exclamation                                         NaN\n",
       "word_freq_semicolon:word_freq_exclamation                     NaN\n",
       "word_freq_hashtag                                             NaN\n",
       "word_freq_semicolon:word_freq_hashtag                         NaN\n",
       "word_freq_exclamation:word_freq_hashtag                       NaN\n",
       "word_freq_semicolon:word_freq_exclamation:word_freq_hashtag   NaN\n",
       "dtype: float64"
      ]
     },
     "execution_count": 112,
     "metadata": {},
     "output_type": "execute_result"
    }
   ],
   "source": [
    "myprobit.pvalues"
   ]
  },
  {
   "cell_type": "code",
   "execution_count": 163,
   "id": "22de8606",
   "metadata": {},
   "outputs": [
    {
     "name": "stdout",
     "output_type": "stream",
     "text": [
      "Warning: Maximum number of iterations has been exceeded.\n",
      "         Current function value: 0.381052\n",
      "         Iterations: 35\n",
      "Intercept                                  0.000000e+00\n",
      "word_freq_hashtag                          4.575697e-05\n",
      "word_freq_exclamation                      1.223815e-23\n",
      "word_freq_hashtag:word_freq_exclamation    2.806051e-01\n",
      "word_freq_edu                              9.176832e-01\n",
      "word_freq_meeting                          9.815993e-01\n",
      "dtype: float64\n"
     ]
    },
    {
     "name": "stderr",
     "output_type": "stream",
     "text": [
      "C:\\ProgramData\\Anaconda3\\lib\\site-packages\\statsmodels\\base\\model.py:566: ConvergenceWarning: Maximum Likelihood optimization failed to converge. Check mle_retvals\n",
      "  warnings.warn(\"Maximum Likelihood optimization failed to \"\n"
     ]
    }
   ],
   "source": [
    "formula_interactions = \"spam ~ word_freq_hashtag * word_freq_exclamation + word_freq_edu  + word_freq_meeting\"\n",
    "\n",
    "myprobit = sm.Probit.from_formula(formula=formula_interactions, data=spam_previous_words).fit()\n",
    "\n",
    "p = myprobit.pvalues\n",
    "print(p)"
   ]
  },
  {
   "cell_type": "code",
   "execution_count": 164,
   "id": "0634e3f3",
   "metadata": {},
   "outputs": [
    {
     "name": "stdout",
     "output_type": "stream",
     "text": [
      "word_freq_meeting\n",
      "word_freq_meeting\n",
      "Optimization terminated successfully.\n",
      "         Current function value: 0.382031\n",
      "         Iterations 9\n",
      "                          Probit Regression Results                           \n",
      "==============================================================================\n",
      "Dep. Variable:                   spam   No. Observations:                 5572\n",
      "Model:                         Probit   Df Residuals:                     5567\n",
      "Method:                           MLE   Df Model:                            4\n",
      "Date:                Sat, 17 Jun 2023   Pseudo R-squ.:                 0.03047\n",
      "Time:                        20:26:00   Log-Likelihood:                -2128.7\n",
      "converged:                       True   LL-Null:                       -2195.6\n",
      "Covariance Type:            nonrobust   LLR p-value:                 5.958e-28\n",
      "===========================================================================================================\n",
      "                                              coef    std err          z      P>|z|      [0.025      0.975]\n",
      "-----------------------------------------------------------------------------------------------------------\n",
      "Intercept                                  -1.1711      0.023    -49.880      0.000      -1.217      -1.125\n",
      "word_freq_hashtag                         -16.6289      4.088     -4.068      0.000     -24.641      -8.617\n",
      "word_freq_exclamation                       3.7616      0.372     10.118      0.000       3.033       4.490\n",
      "word_freq_hashtag:word_freq_exclamation   121.6315    112.846      1.078      0.281     -99.543     342.806\n",
      "word_freq_edu                              -0.1780      1.822     -0.098      0.922      -3.749       3.393\n",
      "===========================================================================================================\n",
      "4267.350931002027\n",
      "word_freq_edu\n",
      "Optimization terminated successfully.\n",
      "         Current function value: 0.382032\n",
      "         Iterations 9\n",
      "                          Probit Regression Results                           \n",
      "==============================================================================\n",
      "Dep. Variable:                   spam   No. Observations:                 5572\n",
      "Model:                         Probit   Df Residuals:                     5568\n",
      "Method:                           MLE   Df Model:                            3\n",
      "Date:                Sat, 17 Jun 2023   Pseudo R-squ.:                 0.03047\n",
      "Time:                        20:26:00   Log-Likelihood:                -2128.7\n",
      "converged:                       True   LL-Null:                       -2195.6\n",
      "Covariance Type:            nonrobust   LLR p-value:                 8.198e-29\n",
      "===========================================================================================================\n",
      "                                              coef    std err          z      P>|z|      [0.025      0.975]\n",
      "-----------------------------------------------------------------------------------------------------------\n",
      "Intercept                                  -1.1712      0.023    -49.900      0.000      -1.217      -1.125\n",
      "word_freq_hashtag                         -16.6278      4.088     -4.067      0.000     -24.640      -8.616\n",
      "word_freq_exclamation                       3.7618      0.372     10.119      0.000       3.033       4.490\n",
      "word_freq_hashtag:word_freq_exclamation   121.6295    112.846      1.078      0.281     -99.544     342.803\n",
      "===========================================================================================================\n",
      "4265.361010682578\n",
      "word_freq_hashtag:word_freq_exclamation\n",
      "Optimization terminated successfully.\n",
      "         Current function value: 0.382126\n",
      "         Iterations 8\n",
      "                          Probit Regression Results                           \n",
      "==============================================================================\n",
      "Dep. Variable:                   spam   No. Observations:                 5572\n",
      "Model:                         Probit   Df Residuals:                     5569\n",
      "Method:                           MLE   Df Model:                            2\n",
      "Date:                Sat, 17 Jun 2023   Pseudo R-squ.:                 0.03023\n",
      "Time:                        20:26:00   Log-Likelihood:                -2129.2\n",
      "converged:                       True   LL-Null:                       -2195.6\n",
      "Covariance Type:            nonrobust   LLR p-value:                 1.488e-29\n",
      "=========================================================================================\n",
      "                            coef    std err          z      P>|z|      [0.025      0.975]\n",
      "-----------------------------------------------------------------------------------------\n",
      "Intercept                -1.1716      0.023    -49.922      0.000      -1.218      -1.126\n",
      "word_freq_hashtag       -15.4949      3.726     -4.159      0.000     -22.797      -8.192\n",
      "word_freq_exclamation     3.7874      0.371     10.215      0.000       3.061       4.514\n",
      "=========================================================================================\n",
      "4264.407798266491\n"
     ]
    }
   ],
   "source": [
    "i = 1\n",
    "while any(p > 0.05):\n",
    "    worstp = p.idxmax()\n",
    "    print(worstp)\n",
    "\n",
    "    if i == 1:\n",
    "        # Remove the outcome variable from the formula\n",
    "        formula_interactions = formula_interactions.replace(\"spam ~ \", \"\")\n",
    "\n",
    "        # Create the design matrix with interaction terms\n",
    "        X = patsy.dmatrix(formula_interactions, data=spam_previous_words)\n",
    "\n",
    "        # Convert the design matrix to a DataFrame\n",
    "        X = pd.DataFrame(X, columns=X.design_info.column_names)\n",
    "        i=2\n",
    "    else:\n",
    "        X = X.drop(worstp, axis=1)\n",
    "        X_names = ['Intercept'] + list(X.columns)[1:]\n",
    "        X.columns = X_names\n",
    "\n",
    "        myprobit = sm.Probit(spam_previous_words['spam'], X).fit()\n",
    "\n",
    "        print(myprobit.summary())\n",
    "        p = myprobit.pvalues\n",
    "        print(myprobit.aic)"
   ]
  },
  {
   "cell_type": "code",
   "execution_count": null,
   "id": "8742b179",
   "metadata": {},
   "outputs": [],
   "source": []
  }
 ],
 "metadata": {
  "kernelspec": {
   "display_name": "Python 3 (ipykernel)",
   "language": "python",
   "name": "python3"
  },
  "language_info": {
   "codemirror_mode": {
    "name": "ipython",
    "version": 3
   },
   "file_extension": ".py",
   "mimetype": "text/x-python",
   "name": "python",
   "nbconvert_exporter": "python",
   "pygments_lexer": "ipython3",
   "version": "3.9.7"
  }
 },
 "nbformat": 4,
 "nbformat_minor": 5
}
